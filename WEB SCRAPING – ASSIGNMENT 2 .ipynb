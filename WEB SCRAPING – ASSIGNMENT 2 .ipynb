{
 "cells": [
  {
   "cell_type": "code",
   "execution_count": 1,
   "id": "f2f107c4",
   "metadata": {},
   "outputs": [
    {
     "name": "stdout",
     "output_type": "stream",
     "text": [
      "Requirement already satisfied: selenium in c:\\programdata\\anaconda3\\lib\\site-packages (4.1.0)\n",
      "Requirement already satisfied: trio-websocket~=0.9 in c:\\programdata\\anaconda3\\lib\\site-packages (from selenium) (0.9.2)\n",
      "Requirement already satisfied: urllib3[secure]~=1.26 in c:\\programdata\\anaconda3\\lib\\site-packages (from selenium) (1.26.4)\n",
      "Requirement already satisfied: trio~=0.17 in c:\\programdata\\anaconda3\\lib\\site-packages (from selenium) (0.19.0)\n",
      "Requirement already satisfied: sniffio in c:\\programdata\\anaconda3\\lib\\site-packages (from trio~=0.17->selenium) (1.2.0)\n",
      "Requirement already satisfied: cffi>=1.14 in c:\\programdata\\anaconda3\\lib\\site-packages (from trio~=0.17->selenium) (1.14.5)\n",
      "Requirement already satisfied: sortedcontainers in c:\\programdata\\anaconda3\\lib\\site-packages (from trio~=0.17->selenium) (2.3.0)\n",
      "Requirement already satisfied: outcome in c:\\programdata\\anaconda3\\lib\\site-packages (from trio~=0.17->selenium) (1.1.0)\n",
      "Requirement already satisfied: attrs>=19.2.0 in c:\\programdata\\anaconda3\\lib\\site-packages (from trio~=0.17->selenium) (20.3.0)\n",
      "Requirement already satisfied: idna in c:\\programdata\\anaconda3\\lib\\site-packages (from trio~=0.17->selenium) (2.10)\n",
      "Requirement already satisfied: async-generator>=1.9 in c:\\programdata\\anaconda3\\lib\\site-packages (from trio~=0.17->selenium) (1.10)\n",
      "Requirement already satisfied: pycparser in c:\\programdata\\anaconda3\\lib\\site-packages (from cffi>=1.14->trio~=0.17->selenium) (2.20)\n",
      "Requirement already satisfied: wsproto>=0.14 in c:\\programdata\\anaconda3\\lib\\site-packages (from trio-websocket~=0.9->selenium) (1.0.0)\n",
      "Requirement already satisfied: cryptography>=1.3.4 in c:\\programdata\\anaconda3\\lib\\site-packages (from urllib3[secure]~=1.26->selenium) (3.4.7)\n",
      "Requirement already satisfied: certifi in c:\\programdata\\anaconda3\\lib\\site-packages (from urllib3[secure]~=1.26->selenium) (2020.12.5)\n",
      "Requirement already satisfied: pyOpenSSL>=0.14 in c:\\programdata\\anaconda3\\lib\\site-packages (from urllib3[secure]~=1.26->selenium) (20.0.1)\n",
      "Requirement already satisfied: six>=1.5.2 in c:\\programdata\\anaconda3\\lib\\site-packages (from pyOpenSSL>=0.14->urllib3[secure]~=1.26->selenium) (1.15.0)\n",
      "Requirement already satisfied: h11<1,>=0.9.0 in c:\\programdata\\anaconda3\\lib\\site-packages (from wsproto>=0.14->trio-websocket~=0.9->selenium) (0.13.0)\n"
     ]
    }
   ],
   "source": [
    "!pip install selenium"
   ]
  },
  {
   "cell_type": "code",
   "execution_count": 2,
   "id": "29b88726",
   "metadata": {},
   "outputs": [],
   "source": [
    "import selenium\n",
    "from selenium import webdriver\n",
    "import pandas as pd\n",
    "import warnings\n",
    "warnings.filterwarnings(\"ignore\")"
   ]
  },
  {
   "cell_type": "code",
   "execution_count": 18,
   "id": "8beaf871",
   "metadata": {},
   "outputs": [],
   "source": [
    "driver = webdriver.Chrome(r'C:\\Users\\anura\\Downloads\\chromedriver.exe')"
   ]
  },
  {
   "cell_type": "code",
   "execution_count": 19,
   "id": "96ebd68f",
   "metadata": {},
   "outputs": [],
   "source": [
    "url = 'http://www.naukri.com/'\n",
    "driver.get(url)"
   ]
  },
  {
   "cell_type": "code",
   "execution_count": 20,
   "id": "0a0eb101",
   "metadata": {},
   "outputs": [
    {
     "data": {
      "text/plain": [
       "<selenium.webdriver.remote.webelement.WebElement (session=\"cf23ccc1ca659079cc2c1da7f56271b6\", element=\"55cd6c3e-b3cc-47fc-834f-e642907724b9\")>"
      ]
     },
     "execution_count": 20,
     "metadata": {},
     "output_type": "execute_result"
    }
   ],
   "source": [
    "Search_job = driver.find_element_by_class_name(\"suggestor-input\")\n",
    "Search_job"
   ]
  },
  {
   "cell_type": "code",
   "execution_count": 21,
   "id": "871ccf60",
   "metadata": {},
   "outputs": [],
   "source": [
    "Search_job.send_keys(\"Data Analyst\")"
   ]
  },
  {
   "cell_type": "code",
   "execution_count": 22,
   "id": "002c5bf0",
   "metadata": {},
   "outputs": [
    {
     "data": {
      "text/plain": [
       "<selenium.webdriver.remote.webelement.WebElement (session=\"cf23ccc1ca659079cc2c1da7f56271b6\", element=\"9961024f-1b11-4f20-9388-cd32b3904ab7\")>"
      ]
     },
     "execution_count": 22,
     "metadata": {},
     "output_type": "execute_result"
    }
   ],
   "source": [
    "Search_Icon = driver.find_element_by_xpath('/html/body/div/div[2]/div[3]/div/div/div[3]/div/div/div/input')\n",
    "Search_Icon "
   ]
  },
  {
   "cell_type": "code",
   "execution_count": 23,
   "id": "61f5ea32",
   "metadata": {},
   "outputs": [],
   "source": [
    "Search_Icon.send_keys(\"Bangalore\")"
   ]
  },
  {
   "cell_type": "code",
   "execution_count": 24,
   "id": "1efd63ef",
   "metadata": {},
   "outputs": [
    {
     "data": {
      "text/plain": [
       "<selenium.webdriver.remote.webelement.WebElement (session=\"cf23ccc1ca659079cc2c1da7f56271b6\", element=\"3a84a3fb-1d89-48ce-aec5-9bccd47f2218\")>"
      ]
     },
     "execution_count": 24,
     "metadata": {},
     "output_type": "execute_result"
    }
   ],
   "source": [
    "Search_btn = driver.find_element_by_class_name(\"qsbSubmit\")\n",
    "Search_btn"
   ]
  },
  {
   "cell_type": "code",
   "execution_count": 25,
   "id": "1dbdd341",
   "metadata": {},
   "outputs": [],
   "source": [
    "Search_btn.click()"
   ]
  },
  {
   "cell_type": "code",
   "execution_count": 26,
   "id": "37617a44",
   "metadata": {},
   "outputs": [
    {
     "data": {
      "text/plain": [
       "20"
      ]
     },
     "execution_count": 26,
     "metadata": {},
     "output_type": "execute_result"
    }
   ],
   "source": [
    "title_tag = driver.find_elements_by_xpath('//a[@class=\"title fw500 ellipsis\"]')\n",
    "len(title_tag)"
   ]
  },
  {
   "cell_type": "code",
   "execution_count": 27,
   "id": "a025ec18",
   "metadata": {},
   "outputs": [
    {
     "data": {
      "text/plain": [
       "[<selenium.webdriver.remote.webelement.WebElement (session=\"cf23ccc1ca659079cc2c1da7f56271b6\", element=\"618e1696-99ab-4b7f-8b47-45f63d4e57db\")>,\n",
       " <selenium.webdriver.remote.webelement.WebElement (session=\"cf23ccc1ca659079cc2c1da7f56271b6\", element=\"80a3117b-0bf8-423e-b579-eb60147bf92e\")>,\n",
       " <selenium.webdriver.remote.webelement.WebElement (session=\"cf23ccc1ca659079cc2c1da7f56271b6\", element=\"c9935956-130f-45c7-b6fc-480515515c8d\")>,\n",
       " <selenium.webdriver.remote.webelement.WebElement (session=\"cf23ccc1ca659079cc2c1da7f56271b6\", element=\"969567c1-e3cf-4959-a572-6422f9266402\")>,\n",
       " <selenium.webdriver.remote.webelement.WebElement (session=\"cf23ccc1ca659079cc2c1da7f56271b6\", element=\"f7dffb6f-3d3a-49fb-9d3b-bc0fea42bd10\")>,\n",
       " <selenium.webdriver.remote.webelement.WebElement (session=\"cf23ccc1ca659079cc2c1da7f56271b6\", element=\"c1f9f1c4-543e-4f3d-a152-4470c43e91af\")>,\n",
       " <selenium.webdriver.remote.webelement.WebElement (session=\"cf23ccc1ca659079cc2c1da7f56271b6\", element=\"5c67afa0-8ae8-4ddb-8a0f-c902c32ed014\")>,\n",
       " <selenium.webdriver.remote.webelement.WebElement (session=\"cf23ccc1ca659079cc2c1da7f56271b6\", element=\"e8a6ce51-9db8-416e-810e-47e5134e4ca9\")>,\n",
       " <selenium.webdriver.remote.webelement.WebElement (session=\"cf23ccc1ca659079cc2c1da7f56271b6\", element=\"55930307-0ab2-4789-8e0b-966590b420d5\")>,\n",
       " <selenium.webdriver.remote.webelement.WebElement (session=\"cf23ccc1ca659079cc2c1da7f56271b6\", element=\"4c2df4d2-4d5b-4f64-948d-07ecadaffaa2\")>,\n",
       " <selenium.webdriver.remote.webelement.WebElement (session=\"cf23ccc1ca659079cc2c1da7f56271b6\", element=\"5a29e699-4184-4c9e-97b4-78873b8007db\")>,\n",
       " <selenium.webdriver.remote.webelement.WebElement (session=\"cf23ccc1ca659079cc2c1da7f56271b6\", element=\"5ce69b27-c057-482e-9962-7346cfb053ac\")>,\n",
       " <selenium.webdriver.remote.webelement.WebElement (session=\"cf23ccc1ca659079cc2c1da7f56271b6\", element=\"2521279a-7360-4c1f-99cf-6f31bdf85ef6\")>,\n",
       " <selenium.webdriver.remote.webelement.WebElement (session=\"cf23ccc1ca659079cc2c1da7f56271b6\", element=\"8b794f09-6da4-4dac-a9b4-b7f8c5c2719f\")>,\n",
       " <selenium.webdriver.remote.webelement.WebElement (session=\"cf23ccc1ca659079cc2c1da7f56271b6\", element=\"2fd294f4-195e-42e5-9d8c-88e300dd8bb6\")>,\n",
       " <selenium.webdriver.remote.webelement.WebElement (session=\"cf23ccc1ca659079cc2c1da7f56271b6\", element=\"ef8b7f40-55a2-41c2-a716-90e55cd89fbb\")>,\n",
       " <selenium.webdriver.remote.webelement.WebElement (session=\"cf23ccc1ca659079cc2c1da7f56271b6\", element=\"3fb31ff3-5d01-4f1b-81a2-825de141f132\")>,\n",
       " <selenium.webdriver.remote.webelement.WebElement (session=\"cf23ccc1ca659079cc2c1da7f56271b6\", element=\"a3eb8a83-8eba-4e24-a8c1-d6984b09ef74\")>,\n",
       " <selenium.webdriver.remote.webelement.WebElement (session=\"cf23ccc1ca659079cc2c1da7f56271b6\", element=\"0e7026fe-166a-44bd-81a9-583b4d8cebc4\")>,\n",
       " <selenium.webdriver.remote.webelement.WebElement (session=\"cf23ccc1ca659079cc2c1da7f56271b6\", element=\"1fc45f1b-1058-479e-bfd1-64fcb79db6f8\")>]"
      ]
     },
     "execution_count": 27,
     "metadata": {},
     "output_type": "execute_result"
    }
   ],
   "source": [
    "title_tag"
   ]
  },
  {
   "cell_type": "code",
   "execution_count": 28,
   "id": "1f5b9fe9",
   "metadata": {},
   "outputs": [
    {
     "data": {
      "text/plain": [
       "10"
      ]
     },
     "execution_count": 28,
     "metadata": {},
     "output_type": "execute_result"
    }
   ],
   "source": [
    "job_title=[]\n",
    "\n",
    "for i in title_tag[:10]:\n",
    "    job_title.append(i.text)\n",
    "len(job_title)"
   ]
  },
  {
   "cell_type": "code",
   "execution_count": 29,
   "id": "5375fbd6",
   "metadata": {},
   "outputs": [
    {
     "data": {
      "text/plain": [
       "['Hiring -Data Analyst, Business Analyst, MIS Analyst -3rd Party Payroll',\n",
       " 'Senior Data Analyst - Data Modeling/Database Design',\n",
       " 'Data analyst',\n",
       " 'Data Analyst',\n",
       " 'OYO Rooms - Data Analyst / Business Analyst',\n",
       " 'Senior Data Analyst - Collibra',\n",
       " 'Consultant - Data Analyst',\n",
       " 'Data Analyst - Python/SQL',\n",
       " 'Data Analyst - IT',\n",
       " 'Lead CLR Data Analyst']"
      ]
     },
     "execution_count": 29,
     "metadata": {},
     "output_type": "execute_result"
    }
   ],
   "source": [
    "job_title"
   ]
  },
  {
   "cell_type": "code",
   "execution_count": 30,
   "id": "c856cdc5",
   "metadata": {},
   "outputs": [
    {
     "data": {
      "text/plain": [
       "20"
      ]
     },
     "execution_count": 30,
     "metadata": {},
     "output_type": "execute_result"
    }
   ],
   "source": [
    "company_tag = driver.find_elements_by_xpath('//a[@class=\"subTitle ellipsis fleft\"]')\n",
    "len(company_tag)"
   ]
  },
  {
   "cell_type": "code",
   "execution_count": 31,
   "id": "a7ae9a6e",
   "metadata": {},
   "outputs": [
    {
     "data": {
      "text/plain": [
       "10"
      ]
     },
     "execution_count": 31,
     "metadata": {},
     "output_type": "execute_result"
    }
   ],
   "source": [
    "company_name = []\n",
    "\n",
    "for i in company_tag[:10]:\n",
    "    company_name.append(i.text)\n",
    "len(company_name)    "
   ]
  },
  {
   "cell_type": "code",
   "execution_count": 17,
   "id": "1a5d6515",
   "metadata": {},
   "outputs": [
    {
     "data": {
      "text/plain": [
       "['Flipkart',\n",
       " 'K & R Enterprises',\n",
       " 'GSK India',\n",
       " 'Aldius Consulting Services Pvt Ltd (Paramantra)',\n",
       " 'OyoRooms',\n",
       " 'Shell',\n",
       " 'Flipkart',\n",
       " 'Affine',\n",
       " 'Yespired',\n",
       " 'Target']"
      ]
     },
     "execution_count": 17,
     "metadata": {},
     "output_type": "execute_result"
    }
   ],
   "source": [
    "company_name"
   ]
  },
  {
   "cell_type": "code",
   "execution_count": 33,
   "id": "ea6305eb",
   "metadata": {},
   "outputs": [
    {
     "data": {
      "text/plain": [
       "20"
      ]
     },
     "execution_count": 33,
     "metadata": {},
     "output_type": "execute_result"
    }
   ],
   "source": [
    "locn_tag = driver.find_elements_by_xpath('//li[@class=\"fleft grey-text br2 placeHolderLi location\"]')\n",
    "len(locn_tag)"
   ]
  },
  {
   "cell_type": "code",
   "execution_count": 34,
   "id": "9492e2e4",
   "metadata": {},
   "outputs": [
    {
     "data": {
      "text/plain": [
       "10"
      ]
     },
     "execution_count": 34,
     "metadata": {},
     "output_type": "execute_result"
    }
   ],
   "source": [
    "location = []\n",
    "\n",
    "for i in locn_tag[:10]:\n",
    "    location.append(i.text)\n",
    "len(location)    "
   ]
  },
  {
   "cell_type": "code",
   "execution_count": 35,
   "id": "28c7d91e",
   "metadata": {},
   "outputs": [
    {
     "data": {
      "text/plain": [
       "['Bangalore/Bengaluru',\n",
       " 'Bangalore/Bengaluru',\n",
       " 'Bangalore/Bengaluru',\n",
       " 'Bangalore/Bengaluru',\n",
       " 'Bangalore/Bengaluru, Delhi / NCR, Mumbai (All Areas)',\n",
       " 'Bangalore/Bengaluru',\n",
       " 'Bangalore/Bengaluru',\n",
       " 'Bangalore/Bengaluru',\n",
       " 'Bangalore/Bengaluru',\n",
       " 'Bangalore/Bengaluru']"
      ]
     },
     "execution_count": 35,
     "metadata": {},
     "output_type": "execute_result"
    }
   ],
   "source": [
    "location"
   ]
  },
  {
   "cell_type": "code",
   "execution_count": 38,
   "id": "6d24be52",
   "metadata": {},
   "outputs": [
    {
     "data": {
      "text/plain": [
       "20"
      ]
     },
     "execution_count": 38,
     "metadata": {},
     "output_type": "execute_result"
    }
   ],
   "source": [
    "exp_tag = driver.find_elements_by_xpath('//span[contains(@title,\"Yrs\")]')\n",
    "len(exp_tag)"
   ]
  },
  {
   "cell_type": "code",
   "execution_count": 39,
   "id": "58ec91da",
   "metadata": {},
   "outputs": [
    {
     "data": {
      "text/plain": [
       "10"
      ]
     },
     "execution_count": 39,
     "metadata": {},
     "output_type": "execute_result"
    }
   ],
   "source": [
    "experience = []\n",
    "\n",
    "for i in exp_tag[:10]:\n",
    "    experience.append(i.text)\n",
    "len(experience)    "
   ]
  },
  {
   "cell_type": "code",
   "execution_count": 40,
   "id": "9b3c7c6c",
   "metadata": {},
   "outputs": [
    {
     "data": {
      "text/plain": [
       "['1-6 Yrs',\n",
       " '4-6 Yrs',\n",
       " '5-9 Yrs',\n",
       " '0-2 Yrs',\n",
       " '2-6 Yrs',\n",
       " '8-12 Yrs',\n",
       " '1-3 Yrs',\n",
       " '3-5 Yrs',\n",
       " '3-8 Yrs',\n",
       " '7-12 Yrs']"
      ]
     },
     "execution_count": 40,
     "metadata": {},
     "output_type": "execute_result"
    }
   ],
   "source": [
    "experience"
   ]
  },
  {
   "cell_type": "code",
   "execution_count": 41,
   "id": "d34038d6",
   "metadata": {},
   "outputs": [
    {
     "data": {
      "text/plain": [
       "(10, 10, 10, 10)"
      ]
     },
     "execution_count": 41,
     "metadata": {},
     "output_type": "execute_result"
    }
   ],
   "source": [
    "len(job_title),len(company_name),len(experience),len(location)"
   ]
  },
  {
   "cell_type": "code",
   "execution_count": 42,
   "id": "5857b57c",
   "metadata": {},
   "outputs": [
    {
     "data": {
      "text/html": [
       "<div>\n",
       "<style scoped>\n",
       "    .dataframe tbody tr th:only-of-type {\n",
       "        vertical-align: middle;\n",
       "    }\n",
       "\n",
       "    .dataframe tbody tr th {\n",
       "        vertical-align: top;\n",
       "    }\n",
       "\n",
       "    .dataframe thead th {\n",
       "        text-align: right;\n",
       "    }\n",
       "</style>\n",
       "<table border=\"1\" class=\"dataframe\">\n",
       "  <thead>\n",
       "    <tr style=\"text-align: right;\">\n",
       "      <th></th>\n",
       "      <th>Job Title</th>\n",
       "      <th>Company</th>\n",
       "      <th>Experience</th>\n",
       "      <th>Location</th>\n",
       "    </tr>\n",
       "  </thead>\n",
       "  <tbody>\n",
       "    <tr>\n",
       "      <th>0</th>\n",
       "      <td>Hiring -Data Analyst, Business Analyst, MIS An...</td>\n",
       "      <td>Flipkart</td>\n",
       "      <td>1-6 Yrs</td>\n",
       "      <td>Bangalore/Bengaluru</td>\n",
       "    </tr>\n",
       "    <tr>\n",
       "      <th>1</th>\n",
       "      <td>Senior Data Analyst - Data Modeling/Database D...</td>\n",
       "      <td>K &amp; R Enterprises</td>\n",
       "      <td>4-6 Yrs</td>\n",
       "      <td>Bangalore/Bengaluru</td>\n",
       "    </tr>\n",
       "    <tr>\n",
       "      <th>2</th>\n",
       "      <td>Data analyst</td>\n",
       "      <td>GSK India</td>\n",
       "      <td>5-9 Yrs</td>\n",
       "      <td>Bangalore/Bengaluru</td>\n",
       "    </tr>\n",
       "    <tr>\n",
       "      <th>3</th>\n",
       "      <td>Data Analyst</td>\n",
       "      <td>Aldius Consulting Services Pvt Ltd (Paramantra)</td>\n",
       "      <td>0-2 Yrs</td>\n",
       "      <td>Bangalore/Bengaluru</td>\n",
       "    </tr>\n",
       "    <tr>\n",
       "      <th>4</th>\n",
       "      <td>OYO Rooms - Data Analyst / Business Analyst</td>\n",
       "      <td>OyoRooms</td>\n",
       "      <td>2-6 Yrs</td>\n",
       "      <td>Bangalore/Bengaluru, Delhi / NCR, Mumbai (All ...</td>\n",
       "    </tr>\n",
       "    <tr>\n",
       "      <th>5</th>\n",
       "      <td>Senior Data Analyst - Collibra</td>\n",
       "      <td>Shell</td>\n",
       "      <td>8-12 Yrs</td>\n",
       "      <td>Bangalore/Bengaluru</td>\n",
       "    </tr>\n",
       "    <tr>\n",
       "      <th>6</th>\n",
       "      <td>Consultant - Data Analyst</td>\n",
       "      <td>Flipkart</td>\n",
       "      <td>1-3 Yrs</td>\n",
       "      <td>Bangalore/Bengaluru</td>\n",
       "    </tr>\n",
       "    <tr>\n",
       "      <th>7</th>\n",
       "      <td>Data Analyst - Python/SQL</td>\n",
       "      <td>Affine</td>\n",
       "      <td>3-5 Yrs</td>\n",
       "      <td>Bangalore/Bengaluru</td>\n",
       "    </tr>\n",
       "    <tr>\n",
       "      <th>8</th>\n",
       "      <td>Data Analyst - IT</td>\n",
       "      <td>Yespired</td>\n",
       "      <td>3-8 Yrs</td>\n",
       "      <td>Bangalore/Bengaluru</td>\n",
       "    </tr>\n",
       "    <tr>\n",
       "      <th>9</th>\n",
       "      <td>Lead CLR Data Analyst</td>\n",
       "      <td>Target</td>\n",
       "      <td>7-12 Yrs</td>\n",
       "      <td>Bangalore/Bengaluru</td>\n",
       "    </tr>\n",
       "  </tbody>\n",
       "</table>\n",
       "</div>"
      ],
      "text/plain": [
       "                                           Job Title  \\\n",
       "0  Hiring -Data Analyst, Business Analyst, MIS An...   \n",
       "1  Senior Data Analyst - Data Modeling/Database D...   \n",
       "2                                       Data analyst   \n",
       "3                                       Data Analyst   \n",
       "4        OYO Rooms - Data Analyst / Business Analyst   \n",
       "5                     Senior Data Analyst - Collibra   \n",
       "6                          Consultant - Data Analyst   \n",
       "7                          Data Analyst - Python/SQL   \n",
       "8                                  Data Analyst - IT   \n",
       "9                              Lead CLR Data Analyst   \n",
       "\n",
       "                                           Company Experience  \\\n",
       "0                                         Flipkart    1-6 Yrs   \n",
       "1                                K & R Enterprises    4-6 Yrs   \n",
       "2                                        GSK India    5-9 Yrs   \n",
       "3  Aldius Consulting Services Pvt Ltd (Paramantra)    0-2 Yrs   \n",
       "4                                         OyoRooms    2-6 Yrs   \n",
       "5                                            Shell   8-12 Yrs   \n",
       "6                                         Flipkart    1-3 Yrs   \n",
       "7                                           Affine    3-5 Yrs   \n",
       "8                                         Yespired    3-8 Yrs   \n",
       "9                                           Target   7-12 Yrs   \n",
       "\n",
       "                                            Location  \n",
       "0                                Bangalore/Bengaluru  \n",
       "1                                Bangalore/Bengaluru  \n",
       "2                                Bangalore/Bengaluru  \n",
       "3                                Bangalore/Bengaluru  \n",
       "4  Bangalore/Bengaluru, Delhi / NCR, Mumbai (All ...  \n",
       "5                                Bangalore/Bengaluru  \n",
       "6                                Bangalore/Bengaluru  \n",
       "7                                Bangalore/Bengaluru  \n",
       "8                                Bangalore/Bengaluru  \n",
       "9                                Bangalore/Bengaluru  "
      ]
     },
     "execution_count": 42,
     "metadata": {},
     "output_type": "execute_result"
    }
   ],
   "source": [
    "jobs = pd.DataFrame()\n",
    "jobs['Job Title'] = job_title\n",
    "jobs['Company'] = company_name\n",
    "jobs['Experience'] = experience\n",
    "jobs['Location'] = location\n",
    "jobs"
   ]
  },
  {
   "cell_type": "markdown",
   "id": "be80ea08",
   "metadata": {},
   "source": [
    "# Q2: "
   ]
  },
  {
   "cell_type": "code",
   "execution_count": 43,
   "id": "c967b609",
   "metadata": {},
   "outputs": [
    {
     "name": "stdout",
     "output_type": "stream",
     "text": [
      "Requirement already satisfied: selenium in c:\\programdata\\anaconda3\\lib\\site-packages (4.1.0)\n",
      "Requirement already satisfied: trio-websocket~=0.9 in c:\\programdata\\anaconda3\\lib\\site-packages (from selenium) (0.9.2)\n",
      "Requirement already satisfied: urllib3[secure]~=1.26 in c:\\programdata\\anaconda3\\lib\\site-packages (from selenium) (1.26.4)\n",
      "Requirement already satisfied: trio~=0.17 in c:\\programdata\\anaconda3\\lib\\site-packages (from selenium) (0.19.0)\n",
      "Requirement already satisfied: attrs>=19.2.0 in c:\\programdata\\anaconda3\\lib\\site-packages (from trio~=0.17->selenium) (20.3.0)\n",
      "Requirement already satisfied: sortedcontainers in c:\\programdata\\anaconda3\\lib\\site-packages (from trio~=0.17->selenium) (2.3.0)\n",
      "Requirement already satisfied: outcome in c:\\programdata\\anaconda3\\lib\\site-packages (from trio~=0.17->selenium) (1.1.0)\n",
      "Requirement already satisfied: sniffio in c:\\programdata\\anaconda3\\lib\\site-packages (from trio~=0.17->selenium) (1.2.0)\n",
      "Requirement already satisfied: async-generator>=1.9 in c:\\programdata\\anaconda3\\lib\\site-packages (from trio~=0.17->selenium) (1.10)\n",
      "Requirement already satisfied: idna in c:\\programdata\\anaconda3\\lib\\site-packages (from trio~=0.17->selenium) (2.10)\n",
      "Requirement already satisfied: cffi>=1.14 in c:\\programdata\\anaconda3\\lib\\site-packages (from trio~=0.17->selenium) (1.14.5)\n",
      "Requirement already satisfied: pycparser in c:\\programdata\\anaconda3\\lib\\site-packages (from cffi>=1.14->trio~=0.17->selenium) (2.20)\n",
      "Requirement already satisfied: wsproto>=0.14 in c:\\programdata\\anaconda3\\lib\\site-packages (from trio-websocket~=0.9->selenium) (1.0.0)\n",
      "Requirement already satisfied: certifi in c:\\programdata\\anaconda3\\lib\\site-packages (from urllib3[secure]~=1.26->selenium) (2020.12.5)\n",
      "Requirement already satisfied: cryptography>=1.3.4 in c:\\programdata\\anaconda3\\lib\\site-packages (from urllib3[secure]~=1.26->selenium) (3.4.7)\n",
      "Requirement already satisfied: pyOpenSSL>=0.14 in c:\\programdata\\anaconda3\\lib\\site-packages (from urllib3[secure]~=1.26->selenium) (20.0.1)\n",
      "Requirement already satisfied: six>=1.5.2 in c:\\programdata\\anaconda3\\lib\\site-packages (from pyOpenSSL>=0.14->urllib3[secure]~=1.26->selenium) (1.15.0)\n",
      "Requirement already satisfied: h11<1,>=0.9.0 in c:\\programdata\\anaconda3\\lib\\site-packages (from wsproto>=0.14->trio-websocket~=0.9->selenium) (0.13.0)\n"
     ]
    }
   ],
   "source": [
    "!pip install selenium"
   ]
  },
  {
   "cell_type": "code",
   "execution_count": 44,
   "id": "146569bf",
   "metadata": {},
   "outputs": [],
   "source": [
    "import selenium\n",
    "from selenium import webdriver\n",
    "import pandas as pd\n",
    "import warnings\n",
    "warnings.filterwarnings(\"ignore\")"
   ]
  },
  {
   "cell_type": "code",
   "execution_count": 45,
   "id": "cde9024e",
   "metadata": {},
   "outputs": [],
   "source": [
    "driver = webdriver.Chrome(r'C:\\Users\\anura\\Downloads\\chromedriver.exe')"
   ]
  },
  {
   "cell_type": "code",
   "execution_count": 46,
   "id": "cbcd975a",
   "metadata": {},
   "outputs": [],
   "source": [
    "url = 'http://www.naukri.com/'\n",
    "driver.get(url)"
   ]
  },
  {
   "cell_type": "code",
   "execution_count": 47,
   "id": "7c853155",
   "metadata": {},
   "outputs": [
    {
     "data": {
      "text/plain": [
       "<selenium.webdriver.remote.webelement.WebElement (session=\"165a5d10f87c2ec3e366da6f08f4aff2\", element=\"6b595ae0-3d69-4abb-b363-b22bb7d2c61a\")>"
      ]
     },
     "execution_count": 47,
     "metadata": {},
     "output_type": "execute_result"
    }
   ],
   "source": [
    "Search_job = driver.find_element_by_class_name(\"suggestor-input\")\n",
    "Search_job"
   ]
  },
  {
   "cell_type": "code",
   "execution_count": 48,
   "id": "5ea81ef8",
   "metadata": {},
   "outputs": [],
   "source": [
    "Search_job.send_keys(\"Data Scientist\")"
   ]
  },
  {
   "cell_type": "code",
   "execution_count": 49,
   "id": "092cc01a",
   "metadata": {},
   "outputs": [
    {
     "data": {
      "text/plain": [
       "<selenium.webdriver.remote.webelement.WebElement (session=\"165a5d10f87c2ec3e366da6f08f4aff2\", element=\"4be35e9f-368d-4d32-b711-bc8bb777268a\")>"
      ]
     },
     "execution_count": 49,
     "metadata": {},
     "output_type": "execute_result"
    }
   ],
   "source": [
    "Search_Icon = driver.find_element_by_xpath('/html/body/div/div[2]/div[3]/div/div/div[3]/div/div/div/input')\n",
    "Search_Icon "
   ]
  },
  {
   "cell_type": "code",
   "execution_count": 50,
   "id": "f90bbe83",
   "metadata": {},
   "outputs": [],
   "source": [
    "Search_Icon.send_keys(\"Bangalore\")"
   ]
  },
  {
   "cell_type": "code",
   "execution_count": 51,
   "id": "bfd529bd",
   "metadata": {},
   "outputs": [
    {
     "data": {
      "text/plain": [
       "<selenium.webdriver.remote.webelement.WebElement (session=\"165a5d10f87c2ec3e366da6f08f4aff2\", element=\"439d73e8-73b1-49b1-ac4b-83c63f34a44a\")>"
      ]
     },
     "execution_count": 51,
     "metadata": {},
     "output_type": "execute_result"
    }
   ],
   "source": [
    "Search_btn = driver.find_element_by_class_name(\"qsbSubmit\")\n",
    "Search_btn"
   ]
  },
  {
   "cell_type": "code",
   "execution_count": 52,
   "id": "79ab04cf",
   "metadata": {},
   "outputs": [],
   "source": [
    "Search_btn.click()"
   ]
  },
  {
   "cell_type": "code",
   "execution_count": 53,
   "id": "de2023be",
   "metadata": {},
   "outputs": [
    {
     "data": {
      "text/plain": [
       "20"
      ]
     },
     "execution_count": 53,
     "metadata": {},
     "output_type": "execute_result"
    }
   ],
   "source": [
    "title_tag = driver.find_elements_by_xpath('//a[@class=\"title fw500 ellipsis\"]')\n",
    "len(title_tag)"
   ]
  },
  {
   "cell_type": "code",
   "execution_count": 54,
   "id": "1a8175c6",
   "metadata": {},
   "outputs": [
    {
     "data": {
      "text/plain": [
       "10"
      ]
     },
     "execution_count": 54,
     "metadata": {},
     "output_type": "execute_result"
    }
   ],
   "source": [
    "job_title=[]\n",
    "\n",
    "for i in title_tag[:10]:\n",
    "    job_title.append(i.text)\n",
    "len(job_title)"
   ]
  },
  {
   "cell_type": "code",
   "execution_count": 55,
   "id": "cd3c1624",
   "metadata": {},
   "outputs": [
    {
     "data": {
      "text/plain": [
       "['Global Tax Automation & Operations - Data Scientist Senior Analyst',\n",
       " 'Louis Dreyfus Company Looking For Data Scientist',\n",
       " 'Data Scientist: Artificial Intelligence',\n",
       " 'Data Scientist: Artificial Intelligence',\n",
       " 'Senior Data Scientist/Data Scientist',\n",
       " 'Senior Data Scientist - Research',\n",
       " 'Senior Data Scientist (Marketplace)',\n",
       " 'Senior Data Scientist',\n",
       " 'Data Scientist - Lead / Architect - Looking For Early Joiners - Wipro',\n",
       " 'Lead Data Scientist - Machine Learning/ Data Mining']"
      ]
     },
     "execution_count": 55,
     "metadata": {},
     "output_type": "execute_result"
    }
   ],
   "source": [
    "job_title"
   ]
  },
  {
   "cell_type": "code",
   "execution_count": 56,
   "id": "425a3771",
   "metadata": {},
   "outputs": [
    {
     "data": {
      "text/plain": [
       "20"
      ]
     },
     "execution_count": 56,
     "metadata": {},
     "output_type": "execute_result"
    }
   ],
   "source": [
    "company_tag = driver.find_elements_by_xpath('//a[@class=\"subTitle ellipsis fleft\"]')\n",
    "len(company_tag)"
   ]
  },
  {
   "cell_type": "code",
   "execution_count": 57,
   "id": "b5c824b3",
   "metadata": {},
   "outputs": [
    {
     "data": {
      "text/plain": [
       "10"
      ]
     },
     "execution_count": 57,
     "metadata": {},
     "output_type": "execute_result"
    }
   ],
   "source": [
    "company_name = []\n",
    "\n",
    "for i in company_tag[:10]:\n",
    "    company_name.append(i.text)\n",
    "len(company_name) "
   ]
  },
  {
   "cell_type": "code",
   "execution_count": 58,
   "id": "3f6e2cd6",
   "metadata": {},
   "outputs": [
    {
     "data": {
      "text/plain": [
       "['Dell',\n",
       " 'Louis Dreyfus Commodities',\n",
       " 'IBM',\n",
       " 'IBM',\n",
       " 'Tredence Analytics Solutions Private Limited',\n",
       " 'Gojek',\n",
       " 'Walmart',\n",
       " 'Walmart',\n",
       " 'Wipro',\n",
       " 'Wrackle Technologies Pvt Ltd']"
      ]
     },
     "execution_count": 58,
     "metadata": {},
     "output_type": "execute_result"
    }
   ],
   "source": [
    "company_name"
   ]
  },
  {
   "cell_type": "code",
   "execution_count": 59,
   "id": "da2d85cd",
   "metadata": {},
   "outputs": [
    {
     "data": {
      "text/plain": [
       "20"
      ]
     },
     "execution_count": 59,
     "metadata": {},
     "output_type": "execute_result"
    }
   ],
   "source": [
    "locn_tag = driver.find_elements_by_xpath('//li[@class=\"fleft grey-text br2 placeHolderLi location\"]')\n",
    "len(locn_tag)"
   ]
  },
  {
   "cell_type": "code",
   "execution_count": 60,
   "id": "43ac4428",
   "metadata": {},
   "outputs": [
    {
     "data": {
      "text/plain": [
       "10"
      ]
     },
     "execution_count": 60,
     "metadata": {},
     "output_type": "execute_result"
    }
   ],
   "source": [
    "location = []\n",
    "\n",
    "for i in locn_tag[:10]:\n",
    "    location.append(i.text)\n",
    "len(location)    "
   ]
  },
  {
   "cell_type": "code",
   "execution_count": 61,
   "id": "447cb6dc",
   "metadata": {},
   "outputs": [
    {
     "data": {
      "text/plain": [
       "['Bangalore/Bengaluru',\n",
       " 'Bangalore/Bengaluru',\n",
       " 'Bangalore/Bengaluru',\n",
       " 'Bangalore/Bengaluru',\n",
       " 'Gurgaon/Gurugram, Chennai, Bangalore/Bengaluru',\n",
       " 'Bangalore/Bengaluru',\n",
       " 'Bangalore/Bengaluru',\n",
       " 'Bangalore/Bengaluru',\n",
       " 'Hyderabad/Secunderabad, Pune, Chennai, Bangalore/Bengaluru',\n",
       " 'Bangalore/Bengaluru']"
      ]
     },
     "execution_count": 61,
     "metadata": {},
     "output_type": "execute_result"
    }
   ],
   "source": [
    "location"
   ]
  },
  {
   "cell_type": "code",
   "execution_count": 62,
   "id": "9f042c5c",
   "metadata": {},
   "outputs": [
    {
     "data": {
      "text/plain": [
       "20"
      ]
     },
     "execution_count": 62,
     "metadata": {},
     "output_type": "execute_result"
    }
   ],
   "source": [
    "exp_tag = driver.find_elements_by_xpath('//span[contains(@title,\"Yrs\")]')\n",
    "len(exp_tag)"
   ]
  },
  {
   "cell_type": "code",
   "execution_count": 63,
   "id": "d5b7b540",
   "metadata": {},
   "outputs": [
    {
     "data": {
      "text/plain": [
       "(10, 10, 10, 10)"
      ]
     },
     "execution_count": 63,
     "metadata": {},
     "output_type": "execute_result"
    }
   ],
   "source": [
    "len(job_title),len(company_name),len(experience),len(location)"
   ]
  },
  {
   "cell_type": "code",
   "execution_count": 64,
   "id": "c65256d3",
   "metadata": {},
   "outputs": [
    {
     "data": {
      "text/html": [
       "<div>\n",
       "<style scoped>\n",
       "    .dataframe tbody tr th:only-of-type {\n",
       "        vertical-align: middle;\n",
       "    }\n",
       "\n",
       "    .dataframe tbody tr th {\n",
       "        vertical-align: top;\n",
       "    }\n",
       "\n",
       "    .dataframe thead th {\n",
       "        text-align: right;\n",
       "    }\n",
       "</style>\n",
       "<table border=\"1\" class=\"dataframe\">\n",
       "  <thead>\n",
       "    <tr style=\"text-align: right;\">\n",
       "      <th></th>\n",
       "      <th>Job Title</th>\n",
       "      <th>Company</th>\n",
       "      <th>Experience</th>\n",
       "      <th>Location</th>\n",
       "    </tr>\n",
       "  </thead>\n",
       "  <tbody>\n",
       "    <tr>\n",
       "      <th>0</th>\n",
       "      <td>Global Tax Automation &amp; Operations - Data Scie...</td>\n",
       "      <td>Dell</td>\n",
       "      <td>1-6 Yrs</td>\n",
       "      <td>Bangalore/Bengaluru</td>\n",
       "    </tr>\n",
       "    <tr>\n",
       "      <th>1</th>\n",
       "      <td>Louis Dreyfus Company Looking For Data Scientist</td>\n",
       "      <td>Louis Dreyfus Commodities</td>\n",
       "      <td>4-6 Yrs</td>\n",
       "      <td>Bangalore/Bengaluru</td>\n",
       "    </tr>\n",
       "    <tr>\n",
       "      <th>2</th>\n",
       "      <td>Data Scientist: Artificial Intelligence</td>\n",
       "      <td>IBM</td>\n",
       "      <td>5-9 Yrs</td>\n",
       "      <td>Bangalore/Bengaluru</td>\n",
       "    </tr>\n",
       "    <tr>\n",
       "      <th>3</th>\n",
       "      <td>Data Scientist: Artificial Intelligence</td>\n",
       "      <td>IBM</td>\n",
       "      <td>0-2 Yrs</td>\n",
       "      <td>Bangalore/Bengaluru</td>\n",
       "    </tr>\n",
       "    <tr>\n",
       "      <th>4</th>\n",
       "      <td>Senior Data Scientist/Data Scientist</td>\n",
       "      <td>Tredence Analytics Solutions Private Limited</td>\n",
       "      <td>2-6 Yrs</td>\n",
       "      <td>Gurgaon/Gurugram, Chennai, Bangalore/Bengaluru</td>\n",
       "    </tr>\n",
       "    <tr>\n",
       "      <th>5</th>\n",
       "      <td>Senior Data Scientist - Research</td>\n",
       "      <td>Gojek</td>\n",
       "      <td>8-12 Yrs</td>\n",
       "      <td>Bangalore/Bengaluru</td>\n",
       "    </tr>\n",
       "    <tr>\n",
       "      <th>6</th>\n",
       "      <td>Senior Data Scientist (Marketplace)</td>\n",
       "      <td>Walmart</td>\n",
       "      <td>1-3 Yrs</td>\n",
       "      <td>Bangalore/Bengaluru</td>\n",
       "    </tr>\n",
       "    <tr>\n",
       "      <th>7</th>\n",
       "      <td>Senior Data Scientist</td>\n",
       "      <td>Walmart</td>\n",
       "      <td>3-5 Yrs</td>\n",
       "      <td>Bangalore/Bengaluru</td>\n",
       "    </tr>\n",
       "    <tr>\n",
       "      <th>8</th>\n",
       "      <td>Data Scientist - Lead / Architect - Looking Fo...</td>\n",
       "      <td>Wipro</td>\n",
       "      <td>3-8 Yrs</td>\n",
       "      <td>Hyderabad/Secunderabad, Pune, Chennai, Bangalo...</td>\n",
       "    </tr>\n",
       "    <tr>\n",
       "      <th>9</th>\n",
       "      <td>Lead Data Scientist - Machine Learning/ Data M...</td>\n",
       "      <td>Wrackle Technologies Pvt Ltd</td>\n",
       "      <td>7-12 Yrs</td>\n",
       "      <td>Bangalore/Bengaluru</td>\n",
       "    </tr>\n",
       "  </tbody>\n",
       "</table>\n",
       "</div>"
      ],
      "text/plain": [
       "                                           Job Title  \\\n",
       "0  Global Tax Automation & Operations - Data Scie...   \n",
       "1   Louis Dreyfus Company Looking For Data Scientist   \n",
       "2            Data Scientist: Artificial Intelligence   \n",
       "3            Data Scientist: Artificial Intelligence   \n",
       "4               Senior Data Scientist/Data Scientist   \n",
       "5                   Senior Data Scientist - Research   \n",
       "6                Senior Data Scientist (Marketplace)   \n",
       "7                              Senior Data Scientist   \n",
       "8  Data Scientist - Lead / Architect - Looking Fo...   \n",
       "9  Lead Data Scientist - Machine Learning/ Data M...   \n",
       "\n",
       "                                        Company Experience  \\\n",
       "0                                          Dell    1-6 Yrs   \n",
       "1                     Louis Dreyfus Commodities    4-6 Yrs   \n",
       "2                                           IBM    5-9 Yrs   \n",
       "3                                           IBM    0-2 Yrs   \n",
       "4  Tredence Analytics Solutions Private Limited    2-6 Yrs   \n",
       "5                                         Gojek   8-12 Yrs   \n",
       "6                                       Walmart    1-3 Yrs   \n",
       "7                                       Walmart    3-5 Yrs   \n",
       "8                                         Wipro    3-8 Yrs   \n",
       "9                  Wrackle Technologies Pvt Ltd   7-12 Yrs   \n",
       "\n",
       "                                            Location  \n",
       "0                                Bangalore/Bengaluru  \n",
       "1                                Bangalore/Bengaluru  \n",
       "2                                Bangalore/Bengaluru  \n",
       "3                                Bangalore/Bengaluru  \n",
       "4     Gurgaon/Gurugram, Chennai, Bangalore/Bengaluru  \n",
       "5                                Bangalore/Bengaluru  \n",
       "6                                Bangalore/Bengaluru  \n",
       "7                                Bangalore/Bengaluru  \n",
       "8  Hyderabad/Secunderabad, Pune, Chennai, Bangalo...  \n",
       "9                                Bangalore/Bengaluru  "
      ]
     },
     "execution_count": 64,
     "metadata": {},
     "output_type": "execute_result"
    }
   ],
   "source": [
    "jobs = pd.DataFrame()\n",
    "jobs['Job Title'] = job_title\n",
    "jobs['Company'] = company_name\n",
    "jobs['Experience'] = experience\n",
    "jobs['Location'] = location\n",
    "jobs"
   ]
  },
  {
   "cell_type": "markdown",
   "id": "17bf7ca0",
   "metadata": {},
   "source": [
    "# Q3"
   ]
  },
  {
   "cell_type": "code",
   "execution_count": 65,
   "id": "0d9cd339",
   "metadata": {},
   "outputs": [
    {
     "name": "stdout",
     "output_type": "stream",
     "text": [
      "Requirement already satisfied: selenium in c:\\programdata\\anaconda3\\lib\\site-packages (4.1.0)\n",
      "Requirement already satisfied: urllib3[secure]~=1.26 in c:\\programdata\\anaconda3\\lib\\site-packages (from selenium) (1.26.4)\n",
      "Requirement already satisfied: trio~=0.17 in c:\\programdata\\anaconda3\\lib\\site-packages (from selenium) (0.19.0)\n",
      "Requirement already satisfied: trio-websocket~=0.9 in c:\\programdata\\anaconda3\\lib\\site-packages (from selenium) (0.9.2)\n",
      "Requirement already satisfied: sniffio in c:\\programdata\\anaconda3\\lib\\site-packages (from trio~=0.17->selenium) (1.2.0)\n",
      "Requirement already satisfied: outcome in c:\\programdata\\anaconda3\\lib\\site-packages (from trio~=0.17->selenium) (1.1.0)\n",
      "Requirement already satisfied: cffi>=1.14 in c:\\programdata\\anaconda3\\lib\\site-packages (from trio~=0.17->selenium) (1.14.5)\n",
      "Requirement already satisfied: idna in c:\\programdata\\anaconda3\\lib\\site-packages (from trio~=0.17->selenium) (2.10)\n",
      "Requirement already satisfied: async-generator>=1.9 in c:\\programdata\\anaconda3\\lib\\site-packages (from trio~=0.17->selenium) (1.10)\n",
      "Requirement already satisfied: attrs>=19.2.0 in c:\\programdata\\anaconda3\\lib\\site-packages (from trio~=0.17->selenium) (20.3.0)\n",
      "Requirement already satisfied: sortedcontainers in c:\\programdata\\anaconda3\\lib\\site-packages (from trio~=0.17->selenium) (2.3.0)\n",
      "Requirement already satisfied: pycparser in c:\\programdata\\anaconda3\\lib\\site-packages (from cffi>=1.14->trio~=0.17->selenium) (2.20)\n",
      "Requirement already satisfied: wsproto>=0.14 in c:\\programdata\\anaconda3\\lib\\site-packages (from trio-websocket~=0.9->selenium) (1.0.0)\n",
      "Requirement already satisfied: pyOpenSSL>=0.14 in c:\\programdata\\anaconda3\\lib\\site-packages (from urllib3[secure]~=1.26->selenium) (20.0.1)\n",
      "Requirement already satisfied: certifi in c:\\programdata\\anaconda3\\lib\\site-packages (from urllib3[secure]~=1.26->selenium) (2020.12.5)\n",
      "Requirement already satisfied: cryptography>=1.3.4 in c:\\programdata\\anaconda3\\lib\\site-packages (from urllib3[secure]~=1.26->selenium) (3.4.7)\n",
      "Requirement already satisfied: six>=1.5.2 in c:\\programdata\\anaconda3\\lib\\site-packages (from pyOpenSSL>=0.14->urllib3[secure]~=1.26->selenium) (1.15.0)\n",
      "Requirement already satisfied: h11<1,>=0.9.0 in c:\\programdata\\anaconda3\\lib\\site-packages (from wsproto>=0.14->trio-websocket~=0.9->selenium) (0.13.0)\n"
     ]
    }
   ],
   "source": [
    "!pip install selenium"
   ]
  },
  {
   "cell_type": "code",
   "execution_count": 66,
   "id": "d88c0cb4",
   "metadata": {},
   "outputs": [],
   "source": [
    "import selenium\n",
    "from selenium import webdriver\n",
    "import pandas as pd\n",
    "import warnings\n",
    "warnings.filterwarnings(\"ignore\")"
   ]
  },
  {
   "cell_type": "code",
   "execution_count": 69,
   "id": "979305e9",
   "metadata": {},
   "outputs": [],
   "source": [
    "driver = webdriver.Chrome(r'C:\\Users\\anura\\Downloads\\chromedriver.exe')"
   ]
  },
  {
   "cell_type": "code",
   "execution_count": 70,
   "id": "a58e54dc",
   "metadata": {},
   "outputs": [],
   "source": [
    "url = 'http://www.naukri.com/'\n",
    "driver.get(url)"
   ]
  },
  {
   "cell_type": "code",
   "execution_count": 73,
   "id": "7b91b476",
   "metadata": {},
   "outputs": [],
   "source": [
    "salary_check = driver.find_element_by_xpath('/html/body/div[1]/div[3]/div[2]/section[1]/div[2]/div[4]/div[2]/div[2]/label/i')"
   ]
  },
  {
   "cell_type": "code",
   "execution_count": 74,
   "id": "9cca536c",
   "metadata": {},
   "outputs": [],
   "source": [
    "salary_check.click()"
   ]
  },
  {
   "cell_type": "code",
   "execution_count": 75,
   "id": "59e774ba",
   "metadata": {},
   "outputs": [],
   "source": [
    "location_check = driver.find_element_by_xpath('/html/body/div[1]/div[3]/div[2]/section[1]/div[2]/div[4]/div[2]/div[3]/label/i')"
   ]
  },
  {
   "cell_type": "code",
   "execution_count": 76,
   "id": "8710f3ca",
   "metadata": {},
   "outputs": [],
   "source": [
    "location_check.click()"
   ]
  },
  {
   "cell_type": "code",
   "execution_count": 77,
   "id": "2c459c32",
   "metadata": {},
   "outputs": [
    {
     "data": {
      "text/plain": [
       "20"
      ]
     },
     "execution_count": 77,
     "metadata": {},
     "output_type": "execute_result"
    }
   ],
   "source": [
    "title_tag = driver.find_elements_by_xpath('//a[@class=\"title fw500 ellipsis\"]')\n",
    "len(title_tag)"
   ]
  },
  {
   "cell_type": "code",
   "execution_count": 78,
   "id": "6da0b3cb",
   "metadata": {},
   "outputs": [
    {
     "data": {
      "text/plain": [
       "10"
      ]
     },
     "execution_count": 78,
     "metadata": {},
     "output_type": "execute_result"
    }
   ],
   "source": [
    "job_title=[]\n",
    "\n",
    "for i in title_tag[:10]:\n",
    "    job_title.append(i.text)\n",
    "len(job_title)"
   ]
  },
  {
   "cell_type": "code",
   "execution_count": 79,
   "id": "55bf6bcf",
   "metadata": {},
   "outputs": [
    {
     "data": {
      "text/plain": [
       "['Junior Data Scientist',\n",
       " 'Data Scientist | A Fintech Organisation',\n",
       " 'Data Scientist-Onsite and offshore',\n",
       " 'Data & Applied Scientist',\n",
       " 'Data and applied Scientist',\n",
       " 'Data Scientist',\n",
       " 'Data Scientist',\n",
       " 'Data Scientist II',\n",
       " 'Opening For Data Scientist',\n",
       " 'Urgent Requirement || Data Scientist || Noida']"
      ]
     },
     "execution_count": 79,
     "metadata": {},
     "output_type": "execute_result"
    }
   ],
   "source": [
    "job_title"
   ]
  },
  {
   "cell_type": "code",
   "execution_count": 80,
   "id": "e00239df",
   "metadata": {},
   "outputs": [
    {
     "data": {
      "text/plain": [
       "20"
      ]
     },
     "execution_count": 80,
     "metadata": {},
     "output_type": "execute_result"
    }
   ],
   "source": [
    "company_tag = driver.find_elements_by_xpath('//a[@class=\"subTitle ellipsis fleft\"]')\n",
    "len(company_tag)"
   ]
  },
  {
   "cell_type": "code",
   "execution_count": 81,
   "id": "10f5850f",
   "metadata": {},
   "outputs": [
    {
     "data": {
      "text/plain": [
       "10"
      ]
     },
     "execution_count": 81,
     "metadata": {},
     "output_type": "execute_result"
    }
   ],
   "source": [
    "company_name = []\n",
    "\n",
    "for i in company_tag[:10]:\n",
    "    company_name.append(i.text)\n",
    "len(company_name)    "
   ]
  },
  {
   "cell_type": "code",
   "execution_count": 82,
   "id": "5eb8a8d6",
   "metadata": {},
   "outputs": [
    {
     "data": {
      "text/plain": [
       "['ParallelDots',\n",
       " 'Vision Beyond Resources India Private Limited',\n",
       " 'PROKXIMITY',\n",
       " 'Microsoft',\n",
       " 'Microsoft',\n",
       " 'CHANGE LEADERS CONSULTING',\n",
       " 'DECISION POINT PRIVATE LIMITED',\n",
       " 'Chegg',\n",
       " 'Care Health Insurance',\n",
       " 'HCL']"
      ]
     },
     "execution_count": 82,
     "metadata": {},
     "output_type": "execute_result"
    }
   ],
   "source": [
    "company_name"
   ]
  },
  {
   "cell_type": "code",
   "execution_count": 83,
   "id": "5e6bc6c3",
   "metadata": {},
   "outputs": [
    {
     "data": {
      "text/plain": [
       "20"
      ]
     },
     "execution_count": 83,
     "metadata": {},
     "output_type": "execute_result"
    }
   ],
   "source": [
    "locn_tag = driver.find_elements_by_xpath('//li[@class=\"fleft grey-text br2 placeHolderLi location\"]')\n",
    "len(locn_tag)"
   ]
  },
  {
   "cell_type": "code",
   "execution_count": 84,
   "id": "9fce09ef",
   "metadata": {},
   "outputs": [
    {
     "data": {
      "text/plain": [
       "10"
      ]
     },
     "execution_count": 84,
     "metadata": {},
     "output_type": "execute_result"
    }
   ],
   "source": [
    "location = []\n",
    "\n",
    "for i in locn_tag[:10]:\n",
    "    location.append(i.text)\n",
    "len(location)  "
   ]
  },
  {
   "cell_type": "code",
   "execution_count": 85,
   "id": "cafe1e27",
   "metadata": {},
   "outputs": [
    {
     "data": {
      "text/plain": [
       "['Gurgaon/Gurugram',\n",
       " 'Gurgaon/Gurugram',\n",
       " 'Hyderabad/Secunderabad, Pune, Chennai, Bangalore/Bengaluru, Delhi / NCR, Mumbai (All Areas)',\n",
       " 'Noida, Hyderabad/Secunderabad, Bangalore/Bengaluru',\n",
       " 'Noida, Hyderabad/Secunderabad, Bangalore/Bengaluru',\n",
       " 'New Delhi',\n",
       " 'Gurgaon/Gurugram, Chennai\\n(WFH during Covid)',\n",
       " 'Delhi / NCR',\n",
       " 'Gurgaon/Gurugram',\n",
       " 'Noida, Delhi / NCR']"
      ]
     },
     "execution_count": 85,
     "metadata": {},
     "output_type": "execute_result"
    }
   ],
   "source": [
    "location"
   ]
  },
  {
   "cell_type": "code",
   "execution_count": 86,
   "id": "38d6553f",
   "metadata": {},
   "outputs": [
    {
     "data": {
      "text/plain": [
       "20"
      ]
     },
     "execution_count": 86,
     "metadata": {},
     "output_type": "execute_result"
    }
   ],
   "source": [
    "exp_tag = driver.find_elements_by_xpath('//span[contains(@title,\"Yrs\")]')\n",
    "len(exp_tag)"
   ]
  },
  {
   "cell_type": "code",
   "execution_count": 87,
   "id": "f3eb17b6",
   "metadata": {},
   "outputs": [
    {
     "data": {
      "text/plain": [
       "10"
      ]
     },
     "execution_count": 87,
     "metadata": {},
     "output_type": "execute_result"
    }
   ],
   "source": [
    "experience = []\n",
    "\n",
    "for i in exp_tag[:10]:\n",
    "    experience.append(i.text)\n",
    "len(experience) "
   ]
  },
  {
   "cell_type": "code",
   "execution_count": 88,
   "id": "d5be0cc9",
   "metadata": {},
   "outputs": [
    {
     "data": {
      "text/plain": [
       "['0-3 Yrs',\n",
       " '2-7 Yrs',\n",
       " '3-8 Yrs',\n",
       " '3-7 Yrs',\n",
       " '3-7 Yrs',\n",
       " '3-8 Yrs',\n",
       " '1-6 Yrs',\n",
       " '2-6 Yrs',\n",
       " '1-5 Yrs',\n",
       " '3-8 Yrs']"
      ]
     },
     "execution_count": 88,
     "metadata": {},
     "output_type": "execute_result"
    }
   ],
   "source": [
    "experience"
   ]
  },
  {
   "cell_type": "code",
   "execution_count": 89,
   "id": "47a2ed06",
   "metadata": {},
   "outputs": [
    {
     "data": {
      "text/plain": [
       "(10, 10, 10, 10)"
      ]
     },
     "execution_count": 89,
     "metadata": {},
     "output_type": "execute_result"
    }
   ],
   "source": [
    "len(job_title),len(company_name),len(experience),len(location)"
   ]
  },
  {
   "cell_type": "code",
   "execution_count": 90,
   "id": "175ec586",
   "metadata": {},
   "outputs": [
    {
     "data": {
      "text/html": [
       "<div>\n",
       "<style scoped>\n",
       "    .dataframe tbody tr th:only-of-type {\n",
       "        vertical-align: middle;\n",
       "    }\n",
       "\n",
       "    .dataframe tbody tr th {\n",
       "        vertical-align: top;\n",
       "    }\n",
       "\n",
       "    .dataframe thead th {\n",
       "        text-align: right;\n",
       "    }\n",
       "</style>\n",
       "<table border=\"1\" class=\"dataframe\">\n",
       "  <thead>\n",
       "    <tr style=\"text-align: right;\">\n",
       "      <th></th>\n",
       "      <th>Job Title</th>\n",
       "      <th>Company</th>\n",
       "      <th>Experience</th>\n",
       "      <th>Location</th>\n",
       "    </tr>\n",
       "  </thead>\n",
       "  <tbody>\n",
       "    <tr>\n",
       "      <th>0</th>\n",
       "      <td>Junior Data Scientist</td>\n",
       "      <td>ParallelDots</td>\n",
       "      <td>0-3 Yrs</td>\n",
       "      <td>Gurgaon/Gurugram</td>\n",
       "    </tr>\n",
       "    <tr>\n",
       "      <th>1</th>\n",
       "      <td>Data Scientist | A Fintech Organisation</td>\n",
       "      <td>Vision Beyond Resources India Private Limited</td>\n",
       "      <td>2-7 Yrs</td>\n",
       "      <td>Gurgaon/Gurugram</td>\n",
       "    </tr>\n",
       "    <tr>\n",
       "      <th>2</th>\n",
       "      <td>Data Scientist-Onsite and offshore</td>\n",
       "      <td>PROKXIMITY</td>\n",
       "      <td>3-8 Yrs</td>\n",
       "      <td>Hyderabad/Secunderabad, Pune, Chennai, Bangalo...</td>\n",
       "    </tr>\n",
       "    <tr>\n",
       "      <th>3</th>\n",
       "      <td>Data &amp; Applied Scientist</td>\n",
       "      <td>Microsoft</td>\n",
       "      <td>3-7 Yrs</td>\n",
       "      <td>Noida, Hyderabad/Secunderabad, Bangalore/Benga...</td>\n",
       "    </tr>\n",
       "    <tr>\n",
       "      <th>4</th>\n",
       "      <td>Data and applied Scientist</td>\n",
       "      <td>Microsoft</td>\n",
       "      <td>3-7 Yrs</td>\n",
       "      <td>Noida, Hyderabad/Secunderabad, Bangalore/Benga...</td>\n",
       "    </tr>\n",
       "    <tr>\n",
       "      <th>5</th>\n",
       "      <td>Data Scientist</td>\n",
       "      <td>CHANGE LEADERS CONSULTING</td>\n",
       "      <td>3-8 Yrs</td>\n",
       "      <td>New Delhi</td>\n",
       "    </tr>\n",
       "    <tr>\n",
       "      <th>6</th>\n",
       "      <td>Data Scientist</td>\n",
       "      <td>DECISION POINT PRIVATE LIMITED</td>\n",
       "      <td>1-6 Yrs</td>\n",
       "      <td>Gurgaon/Gurugram, Chennai\\n(WFH during Covid)</td>\n",
       "    </tr>\n",
       "    <tr>\n",
       "      <th>7</th>\n",
       "      <td>Data Scientist II</td>\n",
       "      <td>Chegg</td>\n",
       "      <td>2-6 Yrs</td>\n",
       "      <td>Delhi / NCR</td>\n",
       "    </tr>\n",
       "    <tr>\n",
       "      <th>8</th>\n",
       "      <td>Opening For Data Scientist</td>\n",
       "      <td>Care Health Insurance</td>\n",
       "      <td>1-5 Yrs</td>\n",
       "      <td>Gurgaon/Gurugram</td>\n",
       "    </tr>\n",
       "    <tr>\n",
       "      <th>9</th>\n",
       "      <td>Urgent Requirement || Data Scientist || Noida</td>\n",
       "      <td>HCL</td>\n",
       "      <td>3-8 Yrs</td>\n",
       "      <td>Noida, Delhi / NCR</td>\n",
       "    </tr>\n",
       "  </tbody>\n",
       "</table>\n",
       "</div>"
      ],
      "text/plain": [
       "                                       Job Title  \\\n",
       "0                          Junior Data Scientist   \n",
       "1        Data Scientist | A Fintech Organisation   \n",
       "2             Data Scientist-Onsite and offshore   \n",
       "3                       Data & Applied Scientist   \n",
       "4                     Data and applied Scientist   \n",
       "5                                 Data Scientist   \n",
       "6                                 Data Scientist   \n",
       "7                              Data Scientist II   \n",
       "8                     Opening For Data Scientist   \n",
       "9  Urgent Requirement || Data Scientist || Noida   \n",
       "\n",
       "                                         Company Experience  \\\n",
       "0                                   ParallelDots    0-3 Yrs   \n",
       "1  Vision Beyond Resources India Private Limited    2-7 Yrs   \n",
       "2                                     PROKXIMITY    3-8 Yrs   \n",
       "3                                      Microsoft    3-7 Yrs   \n",
       "4                                      Microsoft    3-7 Yrs   \n",
       "5                      CHANGE LEADERS CONSULTING    3-8 Yrs   \n",
       "6                 DECISION POINT PRIVATE LIMITED    1-6 Yrs   \n",
       "7                                          Chegg    2-6 Yrs   \n",
       "8                          Care Health Insurance    1-5 Yrs   \n",
       "9                                            HCL    3-8 Yrs   \n",
       "\n",
       "                                            Location  \n",
       "0                                   Gurgaon/Gurugram  \n",
       "1                                   Gurgaon/Gurugram  \n",
       "2  Hyderabad/Secunderabad, Pune, Chennai, Bangalo...  \n",
       "3  Noida, Hyderabad/Secunderabad, Bangalore/Benga...  \n",
       "4  Noida, Hyderabad/Secunderabad, Bangalore/Benga...  \n",
       "5                                          New Delhi  \n",
       "6      Gurgaon/Gurugram, Chennai\\n(WFH during Covid)  \n",
       "7                                        Delhi / NCR  \n",
       "8                                   Gurgaon/Gurugram  \n",
       "9                                 Noida, Delhi / NCR  "
      ]
     },
     "execution_count": 90,
     "metadata": {},
     "output_type": "execute_result"
    }
   ],
   "source": [
    "jobs = pd.DataFrame()\n",
    "jobs['Job Title'] = job_title\n",
    "jobs['Company'] = company_name\n",
    "jobs['Experience'] = experience\n",
    "jobs['Location'] = location\n",
    "jobs"
   ]
  },
  {
   "cell_type": "markdown",
   "id": "e5bc33ef",
   "metadata": {},
   "source": [
    "# Q5:"
   ]
  },
  {
   "cell_type": "code",
   "execution_count": 1,
   "id": "a99c29b1",
   "metadata": {},
   "outputs": [
    {
     "name": "stdout",
     "output_type": "stream",
     "text": [
      "Requirement already satisfied: selenium in c:\\programdata\\anaconda3\\lib\\site-packages (4.1.0)\n",
      "Requirement already satisfied: trio-websocket~=0.9 in c:\\programdata\\anaconda3\\lib\\site-packages (from selenium) (0.9.2)\n",
      "Requirement already satisfied: urllib3[secure]~=1.26 in c:\\programdata\\anaconda3\\lib\\site-packages (from selenium) (1.26.4)\n",
      "Requirement already satisfied: trio~=0.17 in c:\\programdata\\anaconda3\\lib\\site-packages (from selenium) (0.19.0)\n",
      "Requirement already satisfied: idna in c:\\programdata\\anaconda3\\lib\\site-packages (from trio~=0.17->selenium) (2.10)\n",
      "Requirement already satisfied: sniffio in c:\\programdata\\anaconda3\\lib\\site-packages (from trio~=0.17->selenium) (1.2.0)\n",
      "Requirement already satisfied: attrs>=19.2.0 in c:\\programdata\\anaconda3\\lib\\site-packages (from trio~=0.17->selenium) (20.3.0)\n",
      "Requirement already satisfied: cffi>=1.14 in c:\\programdata\\anaconda3\\lib\\site-packages (from trio~=0.17->selenium) (1.14.5)\n",
      "Requirement already satisfied: async-generator>=1.9 in c:\\programdata\\anaconda3\\lib\\site-packages (from trio~=0.17->selenium) (1.10)\n",
      "Requirement already satisfied: sortedcontainers in c:\\programdata\\anaconda3\\lib\\site-packages (from trio~=0.17->selenium) (2.3.0)\n",
      "Requirement already satisfied: outcome in c:\\programdata\\anaconda3\\lib\\site-packages (from trio~=0.17->selenium) (1.1.0)\n",
      "Requirement already satisfied: pycparser in c:\\programdata\\anaconda3\\lib\\site-packages (from cffi>=1.14->trio~=0.17->selenium) (2.20)\n",
      "Requirement already satisfied: wsproto>=0.14 in c:\\programdata\\anaconda3\\lib\\site-packages (from trio-websocket~=0.9->selenium) (1.0.0)\n",
      "Requirement already satisfied: cryptography>=1.3.4 in c:\\programdata\\anaconda3\\lib\\site-packages (from urllib3[secure]~=1.26->selenium) (3.4.7)\n",
      "Requirement already satisfied: certifi in c:\\programdata\\anaconda3\\lib\\site-packages (from urllib3[secure]~=1.26->selenium) (2020.12.5)\n",
      "Requirement already satisfied: pyOpenSSL>=0.14 in c:\\programdata\\anaconda3\\lib\\site-packages (from urllib3[secure]~=1.26->selenium) (20.0.1)\n",
      "Requirement already satisfied: six>=1.5.2 in c:\\programdata\\anaconda3\\lib\\site-packages (from pyOpenSSL>=0.14->urllib3[secure]~=1.26->selenium) (1.15.0)\n",
      "Requirement already satisfied: h11<1,>=0.9.0 in c:\\programdata\\anaconda3\\lib\\site-packages (from wsproto>=0.14->trio-websocket~=0.9->selenium) (0.13.0)\n"
     ]
    }
   ],
   "source": [
    "!pip install selenium"
   ]
  },
  {
   "cell_type": "code",
   "execution_count": 2,
   "id": "7974886d",
   "metadata": {},
   "outputs": [],
   "source": [
    "import selenium\n",
    "from selenium import webdriver\n",
    "import pandas as pd\n",
    "import warnings\n",
    "warnings.filterwarnings(\"ignore\")"
   ]
  },
  {
   "cell_type": "code",
   "execution_count": 4,
   "id": "fb77fe9e",
   "metadata": {},
   "outputs": [],
   "source": [
    "driver = webdriver.Chrome(r'C:\\Users\\anura\\Downloads\\chromedriver.exe')"
   ]
  },
  {
   "cell_type": "code",
   "execution_count": 5,
   "id": "55d94649",
   "metadata": {},
   "outputs": [],
   "source": [
    "url = 'https://www.flipkart.com/apple-iphone-11-black-64-gb/product-reviews/itm4e5041ba101fd?pid=MOBFWQ6BXGJCEYNY&lid=LSTMOBFWQ6BXGJCEYNYL0BETT&marketplace=FLIPKART'\n",
    "driver.get(url)"
   ]
  },
  {
   "cell_type": "code",
   "execution_count": 6,
   "id": "a60ba422",
   "metadata": {},
   "outputs": [
    {
     "data": {
      "text/plain": [
       "10"
      ]
     },
     "execution_count": 6,
     "metadata": {},
     "output_type": "execute_result"
    }
   ],
   "source": [
    "review_tag = driver.find_elements_by_xpath('//p[@class=\"_2-N8zT\"]')\n",
    "len(review_tag)"
   ]
  },
  {
   "cell_type": "code",
   "execution_count": 7,
   "id": "c7dff018",
   "metadata": {},
   "outputs": [
    {
     "data": {
      "text/plain": [
       "10"
      ]
     },
     "execution_count": 7,
     "metadata": {},
     "output_type": "execute_result"
    }
   ],
   "source": [
    "Review_summary=[]\n",
    "\n",
    "for i in review_tag:\n",
    "    Review_summary.append(i.text)\n",
    "len(Review_summary)"
   ]
  },
  {
   "cell_type": "code",
   "execution_count": 8,
   "id": "b14239a7",
   "metadata": {},
   "outputs": [
    {
     "data": {
      "text/plain": [
       "['Brilliant',\n",
       " 'Simply awesome',\n",
       " 'Best in the market!',\n",
       " 'Perfect product!',\n",
       " 'Fabulous!',\n",
       " 'Worth every penny',\n",
       " 'Great product',\n",
       " 'Highly recommended',\n",
       " 'Good choice',\n",
       " 'Worth every penny']"
      ]
     },
     "execution_count": 8,
     "metadata": {},
     "output_type": "execute_result"
    }
   ],
   "source": [
    "Review_summary"
   ]
  },
  {
   "cell_type": "code",
   "execution_count": 9,
   "id": "e2e483d5",
   "metadata": {},
   "outputs": [
    {
     "data": {
      "text/plain": [
       "10"
      ]
     },
     "execution_count": 9,
     "metadata": {},
     "output_type": "execute_result"
    }
   ],
   "source": [
    "full_review = driver.find_elements_by_xpath('//div[@class=\"t-ZTKy\"]')\n",
    "len(full_review)"
   ]
  },
  {
   "cell_type": "code",
   "execution_count": 10,
   "id": "6783f198",
   "metadata": {},
   "outputs": [
    {
     "data": {
      "text/plain": [
       "10"
      ]
     },
     "execution_count": 10,
     "metadata": {},
     "output_type": "execute_result"
    }
   ],
   "source": [
    "Full_review=[]\n",
    "\n",
    "for i in full_review:\n",
    "    Full_review.append(i.text)\n",
    "len(Full_review)"
   ]
  },
  {
   "cell_type": "code",
   "execution_count": 11,
   "id": "ecc58d1e",
   "metadata": {},
   "outputs": [
    {
     "data": {
      "text/plain": [
       "['The Best Phone for the Money\\n\\nThe iPhone 11 offers superb cameras, a more durable design and excellent battery life for an affordable price.\\n\\nCompelling ultra-wide camera\\nNew Night mode is excellent\\nLong battery life',\n",
       " 'Really satisfied with the Product I received... It’s totally genuine and the packaging was also really good so if ur planning to buy just go for it.',\n",
       " 'Great iPhone very snappy experience as apple kind. Upgraded from iPhone 7.\\nPros\\n-Camera top class\\n- Battery top performed\\n-Chipset no need to say as apple kind\\n-Security as you expect from apple\\n- Display super bright industry leading colour\\naccuracy and super responsive\\n-Build quality as expect from apple sturdy\\npremium durable beautiful stylish.\\n-Os most stable os in smartphone industry\\n\\nCons\\n-No 5G\\n-Display is not based on OLED technology\\n-Charger headphones and 1 apple stic...\\nREAD MORE',\n",
       " 'Amazing phone with great cameras and better battery which gives you the best performance. I just love the camera .',\n",
       " 'This is my first iOS phone. I am very happy with this product. Very much satisfied with this. I love this phone.',\n",
       " 'Previously I was using one plus 3t it was a great phone\\nAnd then I decided to upgrade I am stuck between Samsung s10 plus or iPhone 11\\nI have seen the specs and everything were good except the display it’s somewhere between 720-1080 and it’s not even an amoled it’s an LCD display\\nBut I decided to go with iPhone because I have never used an IOS device I have Been an android user from the past 9 years I ordered IPhone 11 (128gb) product red\\nMy experience after using 3 weeks\\n1. The delivery ...\\nREAD MORE',\n",
       " 'Amazing Powerful and Durable Gadget.\\n\\nI’m am very happy with the camera picture quality, Amazing face id unlocked in dark room, Strong battery with perfect screen size as you can carry easily in pocket. This is my third iPhone.\\n\\nI shifted from android Samsung Note series to iPhone because of the strong build quality and peace of mind for next 3-4 years.\\n\\nDon’t think to much just go for it and I suggest you to go for minimum 128gb variant or more 256gb.\\n\\nI’ve attached my puppy pics and no fi...\\nREAD MORE',\n",
       " 'What a camera .....just awesome ..you can feel this iPhone just awesome . Good for gaming also ...try pubg in hd it’s just wow',\n",
       " 'So far it’s been an AMAZING experience coming back to iOS after nearly a decade but it’s not as versatile as android though phone is sturdy dropped it accidentally a couple of times and nothing happened fortunately camera is awesome',\n",
       " 'i11 is worthy to buy, too much happy with the product. Thank u flipkart I received the item on time..loved it..']"
      ]
     },
     "execution_count": 11,
     "metadata": {},
     "output_type": "execute_result"
    }
   ],
   "source": [
    "Full_review"
   ]
  },
  {
   "cell_type": "code",
   "execution_count": 12,
   "id": "e1d9d274",
   "metadata": {},
   "outputs": [
    {
     "data": {
      "text/plain": [
       "10"
      ]
     },
     "execution_count": 12,
     "metadata": {},
     "output_type": "execute_result"
    }
   ],
   "source": [
    "rating_tag = driver.find_elements_by_xpath('//div[@class=\"_3LWZlK _1BLPMq\"]')\n",
    "len(rating_tag)"
   ]
  },
  {
   "cell_type": "code",
   "execution_count": 13,
   "id": "81126787",
   "metadata": {},
   "outputs": [
    {
     "data": {
      "text/plain": [
       "10"
      ]
     },
     "execution_count": 13,
     "metadata": {},
     "output_type": "execute_result"
    }
   ],
   "source": [
    "Rating=[]\n",
    "\n",
    "for i in rating_tag:\n",
    "    Rating.append(i.text)\n",
    "len(Rating)"
   ]
  },
  {
   "cell_type": "code",
   "execution_count": 14,
   "id": "6aad3c07",
   "metadata": {},
   "outputs": [
    {
     "data": {
      "text/plain": [
       "['5', '5', '5', '5', '5', '5', '5', '5', '4', '5']"
      ]
     },
     "execution_count": 14,
     "metadata": {},
     "output_type": "execute_result"
    }
   ],
   "source": [
    "Rating"
   ]
  },
  {
   "cell_type": "code",
   "execution_count": 15,
   "id": "4d850382",
   "metadata": {},
   "outputs": [
    {
     "data": {
      "text/plain": [
       "(10, 10, 10)"
      ]
     },
     "execution_count": 15,
     "metadata": {},
     "output_type": "execute_result"
    }
   ],
   "source": [
    "len(Review_summary),len(Full_review),len(Rating)"
   ]
  },
  {
   "cell_type": "code",
   "execution_count": 16,
   "id": "d94eeacd",
   "metadata": {},
   "outputs": [
    {
     "data": {
      "text/html": [
       "<div>\n",
       "<style scoped>\n",
       "    .dataframe tbody tr th:only-of-type {\n",
       "        vertical-align: middle;\n",
       "    }\n",
       "\n",
       "    .dataframe tbody tr th {\n",
       "        vertical-align: top;\n",
       "    }\n",
       "\n",
       "    .dataframe thead th {\n",
       "        text-align: right;\n",
       "    }\n",
       "</style>\n",
       "<table border=\"1\" class=\"dataframe\">\n",
       "  <thead>\n",
       "    <tr style=\"text-align: right;\">\n",
       "      <th></th>\n",
       "      <th>Rating</th>\n",
       "      <th>Full Review</th>\n",
       "      <th>Review Summary</th>\n",
       "    </tr>\n",
       "  </thead>\n",
       "  <tbody>\n",
       "    <tr>\n",
       "      <th>0</th>\n",
       "      <td>5</td>\n",
       "      <td>The Best Phone for the Money\\n\\nThe iPhone 11 ...</td>\n",
       "      <td>Brilliant</td>\n",
       "    </tr>\n",
       "    <tr>\n",
       "      <th>1</th>\n",
       "      <td>5</td>\n",
       "      <td>Really satisfied with the Product I received.....</td>\n",
       "      <td>Simply awesome</td>\n",
       "    </tr>\n",
       "    <tr>\n",
       "      <th>2</th>\n",
       "      <td>5</td>\n",
       "      <td>Great iPhone very snappy experience as apple k...</td>\n",
       "      <td>Best in the market!</td>\n",
       "    </tr>\n",
       "    <tr>\n",
       "      <th>3</th>\n",
       "      <td>5</td>\n",
       "      <td>Amazing phone with great cameras and better ba...</td>\n",
       "      <td>Perfect product!</td>\n",
       "    </tr>\n",
       "    <tr>\n",
       "      <th>4</th>\n",
       "      <td>5</td>\n",
       "      <td>This is my first iOS phone. I am very happy wi...</td>\n",
       "      <td>Fabulous!</td>\n",
       "    </tr>\n",
       "    <tr>\n",
       "      <th>5</th>\n",
       "      <td>5</td>\n",
       "      <td>Previously I was using one plus 3t it was a gr...</td>\n",
       "      <td>Worth every penny</td>\n",
       "    </tr>\n",
       "    <tr>\n",
       "      <th>6</th>\n",
       "      <td>5</td>\n",
       "      <td>Amazing Powerful and Durable Gadget.\\n\\nI’m am...</td>\n",
       "      <td>Great product</td>\n",
       "    </tr>\n",
       "    <tr>\n",
       "      <th>7</th>\n",
       "      <td>5</td>\n",
       "      <td>What a camera .....just awesome ..you can feel...</td>\n",
       "      <td>Highly recommended</td>\n",
       "    </tr>\n",
       "    <tr>\n",
       "      <th>8</th>\n",
       "      <td>4</td>\n",
       "      <td>So far it’s been an AMAZING experience coming ...</td>\n",
       "      <td>Good choice</td>\n",
       "    </tr>\n",
       "    <tr>\n",
       "      <th>9</th>\n",
       "      <td>5</td>\n",
       "      <td>i11 is worthy to buy, too much happy with the ...</td>\n",
       "      <td>Worth every penny</td>\n",
       "    </tr>\n",
       "  </tbody>\n",
       "</table>\n",
       "</div>"
      ],
      "text/plain": [
       "  Rating                                        Full Review  \\\n",
       "0      5  The Best Phone for the Money\\n\\nThe iPhone 11 ...   \n",
       "1      5  Really satisfied with the Product I received.....   \n",
       "2      5  Great iPhone very snappy experience as apple k...   \n",
       "3      5  Amazing phone with great cameras and better ba...   \n",
       "4      5  This is my first iOS phone. I am very happy wi...   \n",
       "5      5  Previously I was using one plus 3t it was a gr...   \n",
       "6      5  Amazing Powerful and Durable Gadget.\\n\\nI’m am...   \n",
       "7      5  What a camera .....just awesome ..you can feel...   \n",
       "8      4  So far it’s been an AMAZING experience coming ...   \n",
       "9      5  i11 is worthy to buy, too much happy with the ...   \n",
       "\n",
       "        Review Summary  \n",
       "0            Brilliant  \n",
       "1       Simply awesome  \n",
       "2  Best in the market!  \n",
       "3     Perfect product!  \n",
       "4            Fabulous!  \n",
       "5    Worth every penny  \n",
       "6        Great product  \n",
       "7   Highly recommended  \n",
       "8          Good choice  \n",
       "9    Worth every penny  "
      ]
     },
     "execution_count": 16,
     "metadata": {},
     "output_type": "execute_result"
    }
   ],
   "source": [
    "Reviews = pd.DataFrame()\n",
    "Reviews['Rating'] = Rating\n",
    "Reviews['Full Review'] = Full_review\n",
    "Reviews['Review Summary'] = Review_summary\n",
    "Reviews"
   ]
  },
  {
   "cell_type": "code",
   "execution_count": 31,
   "id": "9e9545fe",
   "metadata": {},
   "outputs": [],
   "source": [
    "next_page = driver.find_element_by_xpath('/html/body/div/div/div[3]/div/div/div[2]/div[13]/div/div/nav/a[11]/span')"
   ]
  },
  {
   "cell_type": "code",
   "execution_count": 32,
   "id": "cbfdb794",
   "metadata": {},
   "outputs": [],
   "source": [
    "next_page.click()"
   ]
  },
  {
   "cell_type": "code",
   "execution_count": 68,
   "id": "d2c32ffc",
   "metadata": {},
   "outputs": [
    {
     "data": {
      "text/plain": [
       "10"
      ]
     },
     "execution_count": 68,
     "metadata": {},
     "output_type": "execute_result"
    }
   ],
   "source": [
    "review_tag = driver.find_elements_by_xpath('//p[@class=\"_2-N8zT\"]')\n",
    "len(review_tag)"
   ]
  },
  {
   "cell_type": "code",
   "execution_count": 69,
   "id": "6d8e3987",
   "metadata": {},
   "outputs": [
    {
     "data": {
      "text/plain": [
       "10"
      ]
     },
     "execution_count": 69,
     "metadata": {},
     "output_type": "execute_result"
    }
   ],
   "source": [
    "Review_summary=[]\n",
    "\n",
    "for i in review_tag:\n",
    "    Review_summary.append(i.text)\n",
    "len(Review_summary)"
   ]
  },
  {
   "cell_type": "code",
   "execution_count": 70,
   "id": "1f9e28c3",
   "metadata": {},
   "outputs": [
    {
     "data": {
      "text/plain": [
       "['Highly recommended',\n",
       " 'Perfect product!',\n",
       " 'Perfect product!',\n",
       " 'Highly recommended',\n",
       " 'Perfect product!',\n",
       " 'Worth every penny',\n",
       " 'Classy product',\n",
       " 'Worth every penny',\n",
       " 'Worth every penny',\n",
       " 'Nice product']"
      ]
     },
     "execution_count": 70,
     "metadata": {},
     "output_type": "execute_result"
    }
   ],
   "source": [
    "Review_summary"
   ]
  },
  {
   "cell_type": "code",
   "execution_count": 71,
   "id": "54330251",
   "metadata": {},
   "outputs": [
    {
     "data": {
      "text/plain": [
       "10"
      ]
     },
     "execution_count": 71,
     "metadata": {},
     "output_type": "execute_result"
    }
   ],
   "source": [
    "full_review = driver.find_elements_by_xpath('//div[@class=\"t-ZTKy\"]')\n",
    "len(full_review)"
   ]
  },
  {
   "cell_type": "code",
   "execution_count": 72,
   "id": "b487f85e",
   "metadata": {},
   "outputs": [
    {
     "data": {
      "text/plain": [
       "10"
      ]
     },
     "execution_count": 72,
     "metadata": {},
     "output_type": "execute_result"
    }
   ],
   "source": [
    "Full_review=[]\n",
    "\n",
    "for i in full_review:\n",
    "    Full_review.append(i.text)\n",
    "len(Full_review)"
   ]
  },
  {
   "cell_type": "code",
   "execution_count": 73,
   "id": "8b0c6522",
   "metadata": {},
   "outputs": [
    {
     "data": {
      "text/plain": [
       "['iphone 11 is a very good phone to buy only if you can compromise for the display. The display on this is device is pretty good but you can get other options with better displays in this price segment.\\nIf you can survive with an HD+ LCD panel with thicker bezels and a notch up top then this is a very good phone for you.\\nCameras are awesome, battery backup excellent, great performance and a decent premium look. Good job Apple !',\n",
       " 'It’s a must buy who is looking for an upgrade from previous generation of iPhones. If you are using XR then still you can hold on for sometime and upgrade to 2020 model else this phone is a must buy . Camera quality is amazing and wide angle is something to count upon. Performance wise it’s amazing and feels premium while holding in hand. So a big YES for this device. Go for 128 GB variant as the 4K videos will occupy lots of space and the storage can get over very quickly. Try to buy it with...\\nREAD MORE',\n",
       " 'Value for money❤️❤️\\nIts awesome mobile phone in the world ...\\nDisplay was very good and bright ..\\nTrust me freinds you r never regret after Buying..\\nJust go for it....\\nI love this phone and i switch to iphone x to 11',\n",
       " \"It's my first time to use iOS phone and I am loving my upgradation 😍😍 I love the color, I love the assebility of the phone....I need to learn more about its functionality, but as far as I have seen, it's quite easy and it has a lot of functions to work on, specially if you are a content writer or a blogger you get a lot of content creation platforms and they are really amazing.\\n\\nThis phone not only for good quality photography but a lot of other task too.😍💯\",\n",
       " \"Iphone is just awesome.. battery backup is very very nice.. continuously for 10 hours we can use it.camera is just awesome.. display is just fab.i love it alot..i had to wait 15 days for it as i pre ordered it..overalll it's worth the price..these all images are clicked by my iPhone..and i love it.\",\n",
       " 'Best budget Iphone till date ❤️ go for it guys without second thought. Let me explain you guys about Camera, Display, battery, and performance.\\n\\nCamera: at this price range there is no comparison of camera, you’ll love the picture quality as well as video quality. I am a Vlogger I wanted an iPhone with 4k video by front camera and I got this phone and I am more than happy 😃\\n\\nBattery: I use this phone roughly as I am active social media person and I have a youtube channel. so the battery ba...\\nREAD MORE',\n",
       " 'Totally in love with this ❤ the camera quality is amazing just love it 😘😘😘 itsss dammnnnnnn amazing... Must buy iPhone 11 this is my best experience ever ☀👌👌🧡🧡🧡🧡🧡 thanku apple ❤',\n",
       " 'Smooth like butter, camera like fantabulous, sound is crystal clear & its red color is damn attractive, i am just loving it. Must buy if you love photography.\\n\\nLucky to get it in sale, thank you Flipkart.',\n",
       " 'It’s been almost a month since I have been using this phone. I upgraded from an iPhone 8. The main issue with my 8 was battery and this phone is just awesome when it comes to battery. It lasts a day and a half for me with my regular use , internet connected always with 4g\\nCan’t move forward without saying this. Battery of this phone is a life saver when I am traveling or at work when I don’t get the option to charge\\nCamera is superb. Front cam selfies and back cam photos are just awesome.\\n...\\nREAD MORE',\n",
       " 'Awesome Phone. Slightly high price but worth. Better than iPhone XR.\\nCamera is superb and wide angle camera is very clear.\\n12MP selfie camera is also very good.\\nA13 Chip gives a very good and smooth performance.']"
      ]
     },
     "execution_count": 73,
     "metadata": {},
     "output_type": "execute_result"
    }
   ],
   "source": [
    "Full_review"
   ]
  },
  {
   "cell_type": "code",
   "execution_count": 74,
   "id": "d5224d5b",
   "metadata": {},
   "outputs": [
    {
     "data": {
      "text/plain": [
       "10"
      ]
     },
     "execution_count": 74,
     "metadata": {},
     "output_type": "execute_result"
    }
   ],
   "source": [
    "rating_tag = driver.find_elements_by_xpath('//div[@class=\"_3LWZlK _1BLPMq\"]')\n",
    "len(rating_tag)"
   ]
  },
  {
   "cell_type": "code",
   "execution_count": 75,
   "id": "af81a628",
   "metadata": {},
   "outputs": [
    {
     "data": {
      "text/plain": [
       "10"
      ]
     },
     "execution_count": 75,
     "metadata": {},
     "output_type": "execute_result"
    }
   ],
   "source": [
    "Rating=[]\n",
    "\n",
    "for i in rating_tag:\n",
    "    Rating.append(i.text)\n",
    "len(Rating)"
   ]
  },
  {
   "cell_type": "code",
   "execution_count": 76,
   "id": "7bdac096",
   "metadata": {},
   "outputs": [
    {
     "data": {
      "text/plain": [
       "['5', '5', '5', '5', '5', '5', '5', '5', '5', '4']"
      ]
     },
     "execution_count": 76,
     "metadata": {},
     "output_type": "execute_result"
    }
   ],
   "source": [
    "Rating"
   ]
  },
  {
   "cell_type": "code",
   "execution_count": 77,
   "id": "e5b4f87c",
   "metadata": {},
   "outputs": [
    {
     "data": {
      "text/plain": [
       "(10, 10, 10)"
      ]
     },
     "execution_count": 77,
     "metadata": {},
     "output_type": "execute_result"
    }
   ],
   "source": [
    "len(Review_summary),len(Full_review),len(Rating)"
   ]
  },
  {
   "cell_type": "code",
   "execution_count": 78,
   "id": "592ddc8e",
   "metadata": {},
   "outputs": [
    {
     "data": {
      "text/html": [
       "<div>\n",
       "<style scoped>\n",
       "    .dataframe tbody tr th:only-of-type {\n",
       "        vertical-align: middle;\n",
       "    }\n",
       "\n",
       "    .dataframe tbody tr th {\n",
       "        vertical-align: top;\n",
       "    }\n",
       "\n",
       "    .dataframe thead th {\n",
       "        text-align: right;\n",
       "    }\n",
       "</style>\n",
       "<table border=\"1\" class=\"dataframe\">\n",
       "  <thead>\n",
       "    <tr style=\"text-align: right;\">\n",
       "      <th></th>\n",
       "      <th>Rating</th>\n",
       "      <th>Full Review</th>\n",
       "      <th>Review Summary</th>\n",
       "    </tr>\n",
       "  </thead>\n",
       "  <tbody>\n",
       "    <tr>\n",
       "      <th>0</th>\n",
       "      <td>5</td>\n",
       "      <td>iphone 11 is a very good phone to buy only if ...</td>\n",
       "      <td>Highly recommended</td>\n",
       "    </tr>\n",
       "    <tr>\n",
       "      <th>1</th>\n",
       "      <td>5</td>\n",
       "      <td>It’s a must buy who is looking for an upgrade ...</td>\n",
       "      <td>Perfect product!</td>\n",
       "    </tr>\n",
       "    <tr>\n",
       "      <th>2</th>\n",
       "      <td>5</td>\n",
       "      <td>Value for money❤️❤️\\nIts awesome mobile phone ...</td>\n",
       "      <td>Perfect product!</td>\n",
       "    </tr>\n",
       "    <tr>\n",
       "      <th>3</th>\n",
       "      <td>5</td>\n",
       "      <td>It's my first time to use iOS phone and I am l...</td>\n",
       "      <td>Highly recommended</td>\n",
       "    </tr>\n",
       "    <tr>\n",
       "      <th>4</th>\n",
       "      <td>5</td>\n",
       "      <td>Iphone is just awesome.. battery backup is ver...</td>\n",
       "      <td>Perfect product!</td>\n",
       "    </tr>\n",
       "    <tr>\n",
       "      <th>5</th>\n",
       "      <td>5</td>\n",
       "      <td>Best budget Iphone till date ❤️ go for it guys...</td>\n",
       "      <td>Worth every penny</td>\n",
       "    </tr>\n",
       "    <tr>\n",
       "      <th>6</th>\n",
       "      <td>5</td>\n",
       "      <td>Totally in love with this ❤ the camera quality...</td>\n",
       "      <td>Classy product</td>\n",
       "    </tr>\n",
       "    <tr>\n",
       "      <th>7</th>\n",
       "      <td>5</td>\n",
       "      <td>Smooth like butter, camera like fantabulous, s...</td>\n",
       "      <td>Worth every penny</td>\n",
       "    </tr>\n",
       "    <tr>\n",
       "      <th>8</th>\n",
       "      <td>5</td>\n",
       "      <td>It’s been almost a month since I have been usi...</td>\n",
       "      <td>Worth every penny</td>\n",
       "    </tr>\n",
       "    <tr>\n",
       "      <th>9</th>\n",
       "      <td>4</td>\n",
       "      <td>Awesome Phone. Slightly high price but worth. ...</td>\n",
       "      <td>Nice product</td>\n",
       "    </tr>\n",
       "  </tbody>\n",
       "</table>\n",
       "</div>"
      ],
      "text/plain": [
       "  Rating                                        Full Review  \\\n",
       "0      5  iphone 11 is a very good phone to buy only if ...   \n",
       "1      5  It’s a must buy who is looking for an upgrade ...   \n",
       "2      5  Value for money❤️❤️\\nIts awesome mobile phone ...   \n",
       "3      5  It's my first time to use iOS phone and I am l...   \n",
       "4      5  Iphone is just awesome.. battery backup is ver...   \n",
       "5      5  Best budget Iphone till date ❤️ go for it guys...   \n",
       "6      5  Totally in love with this ❤ the camera quality...   \n",
       "7      5  Smooth like butter, camera like fantabulous, s...   \n",
       "8      5  It’s been almost a month since I have been usi...   \n",
       "9      4  Awesome Phone. Slightly high price but worth. ...   \n",
       "\n",
       "       Review Summary  \n",
       "0  Highly recommended  \n",
       "1    Perfect product!  \n",
       "2    Perfect product!  \n",
       "3  Highly recommended  \n",
       "4    Perfect product!  \n",
       "5   Worth every penny  \n",
       "6      Classy product  \n",
       "7   Worth every penny  \n",
       "8   Worth every penny  \n",
       "9        Nice product  "
      ]
     },
     "execution_count": 78,
     "metadata": {},
     "output_type": "execute_result"
    }
   ],
   "source": [
    "Reviews = pd.DataFrame()\n",
    "Reviews['Rating'] = Rating\n",
    "Reviews['Full Review'] = Full_review\n",
    "Reviews['Review Summary'] = Review_summary\n",
    "Reviews"
   ]
  }
 ],
 "metadata": {
  "kernelspec": {
   "display_name": "Python 3",
   "language": "python",
   "name": "python3"
  },
  "language_info": {
   "codemirror_mode": {
    "name": "ipython",
    "version": 3
   },
   "file_extension": ".py",
   "mimetype": "text/x-python",
   "name": "python",
   "nbconvert_exporter": "python",
   "pygments_lexer": "ipython3",
   "version": "3.8.8"
  }
 },
 "nbformat": 4,
 "nbformat_minor": 5
}
