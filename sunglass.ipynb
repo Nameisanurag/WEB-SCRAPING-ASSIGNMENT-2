{
 "cells": [
  {
   "cell_type": "code",
   "execution_count": 31,
   "id": "e90cc83b",
   "metadata": {},
   "outputs": [
    {
     "name": "stdout",
     "output_type": "stream",
     "text": [
      "Requirement already satisfied: selenium in c:\\programdata\\anaconda3\\lib\\site-packages (4.1.0)\n",
      "Requirement already satisfied: urllib3[secure]~=1.26 in c:\\programdata\\anaconda3\\lib\\site-packages (from selenium) (1.26.4)\n",
      "Requirement already satisfied: trio~=0.17 in c:\\programdata\\anaconda3\\lib\\site-packages (from selenium) (0.19.0)\n",
      "Requirement already satisfied: trio-websocket~=0.9 in c:\\programdata\\anaconda3\\lib\\site-packages (from selenium) (0.9.2)\n",
      "Requirement already satisfied: outcome in c:\\programdata\\anaconda3\\lib\\site-packages (from trio~=0.17->selenium) (1.1.0)\n",
      "Requirement already satisfied: idna in c:\\programdata\\anaconda3\\lib\\site-packages (from trio~=0.17->selenium) (2.10)\n",
      "Requirement already satisfied: attrs>=19.2.0 in c:\\programdata\\anaconda3\\lib\\site-packages (from trio~=0.17->selenium) (20.3.0)\n",
      "Requirement already satisfied: async-generator>=1.9 in c:\\programdata\\anaconda3\\lib\\site-packages (from trio~=0.17->selenium) (1.10)\n",
      "Requirement already satisfied: sniffio in c:\\programdata\\anaconda3\\lib\\site-packages (from trio~=0.17->selenium) (1.2.0)\n",
      "Requirement already satisfied: cffi>=1.14 in c:\\programdata\\anaconda3\\lib\\site-packages (from trio~=0.17->selenium) (1.14.5)\n",
      "Requirement already satisfied: sortedcontainers in c:\\programdata\\anaconda3\\lib\\site-packages (from trio~=0.17->selenium) (2.3.0)\n",
      "Requirement already satisfied: pycparser in c:\\programdata\\anaconda3\\lib\\site-packages (from cffi>=1.14->trio~=0.17->selenium) (2.20)\n",
      "Requirement already satisfied: wsproto>=0.14 in c:\\programdata\\anaconda3\\lib\\site-packages (from trio-websocket~=0.9->selenium) (1.0.0)\n",
      "Requirement already satisfied: cryptography>=1.3.4 in c:\\programdata\\anaconda3\\lib\\site-packages (from urllib3[secure]~=1.26->selenium) (3.4.7)\n",
      "Requirement already satisfied: certifi in c:\\programdata\\anaconda3\\lib\\site-packages (from urllib3[secure]~=1.26->selenium) (2020.12.5)\n",
      "Requirement already satisfied: pyOpenSSL>=0.14 in c:\\programdata\\anaconda3\\lib\\site-packages (from urllib3[secure]~=1.26->selenium) (20.0.1)\n",
      "Requirement already satisfied: six>=1.5.2 in c:\\programdata\\anaconda3\\lib\\site-packages (from pyOpenSSL>=0.14->urllib3[secure]~=1.26->selenium) (1.15.0)\n",
      "Requirement already satisfied: h11<1,>=0.9.0 in c:\\programdata\\anaconda3\\lib\\site-packages (from wsproto>=0.14->trio-websocket~=0.9->selenium) (0.13.0)\n"
     ]
    }
   ],
   "source": [
    "!pip install selenium"
   ]
  },
  {
   "cell_type": "code",
   "execution_count": 32,
   "id": "d44839ee",
   "metadata": {},
   "outputs": [],
   "source": [
    "import selenium\n",
    "from selenium import webdriver\n",
    "import pandas as pd\n",
    "import warnings\n",
    "warnings.filterwarnings(\"ignore\")"
   ]
  },
  {
   "cell_type": "code",
   "execution_count": 34,
   "id": "ad6025c5",
   "metadata": {},
   "outputs": [],
   "source": [
    "driver = webdriver.Chrome(r'C:\\Users\\anura\\Downloads\\chromedriver.exe')"
   ]
  },
  {
   "cell_type": "code",
   "execution_count": 36,
   "id": "49a62bfb",
   "metadata": {},
   "outputs": [],
   "source": [
    "url = 'https://www.flipkart.com/'\n",
    "driver.get(url)"
   ]
  },
  {
   "cell_type": "code",
   "execution_count": 37,
   "id": "c9d9347b",
   "metadata": {},
   "outputs": [
    {
     "data": {
      "text/plain": [
       "<selenium.webdriver.remote.webelement.WebElement (session=\"c9d7484987d503363d33fe88e8a85abe\", element=\"2c0917c7-e2c9-4ec5-8631-68d4789cdd18\")>"
      ]
     },
     "execution_count": 37,
     "metadata": {},
     "output_type": "execute_result"
    }
   ],
   "source": [
    "search_sunglass = driver.find_element_by_class_name(\"_3704LK\")\n",
    "search_sunglass"
   ]
  },
  {
   "cell_type": "code",
   "execution_count": 38,
   "id": "8be529c3",
   "metadata": {},
   "outputs": [],
   "source": [
    "search_sunglass.send_keys(\"sunglass\")"
   ]
  },
  {
   "cell_type": "code",
   "execution_count": 39,
   "id": "2ce807fc",
   "metadata": {},
   "outputs": [
    {
     "data": {
      "text/plain": [
       "<selenium.webdriver.remote.webelement.WebElement (session=\"c9d7484987d503363d33fe88e8a85abe\", element=\"b9cecd13-df2c-4047-b2e6-93fa97cfa82a\")>"
      ]
     },
     "execution_count": 39,
     "metadata": {},
     "output_type": "execute_result"
    }
   ],
   "source": [
    "search_btn = driver.find_element_by_class_name(\"L0Z3Pu\")\n",
    "search_btn"
   ]
  },
  {
   "cell_type": "code",
   "execution_count": 40,
   "id": "a048843e",
   "metadata": {},
   "outputs": [],
   "source": [
    "search_btn.click()"
   ]
  },
  {
   "cell_type": "code",
   "execution_count": 41,
   "id": "36d07d30",
   "metadata": {},
   "outputs": [
    {
     "data": {
      "text/plain": [
       "40"
      ]
     },
     "execution_count": 41,
     "metadata": {},
     "output_type": "execute_result"
    }
   ],
   "source": [
    "brand_tags = driver.find_elements_by_xpath('//div[@class=\"_2WkVRV\"]')\n",
    "len(brand_tags)"
   ]
  },
  {
   "cell_type": "code",
   "execution_count": 42,
   "id": "797a51fe",
   "metadata": {},
   "outputs": [],
   "source": [
    "brand_titles = []\n",
    "for i in brand_tags:\n",
    "    brand_titles.append(i.text)\n",
    "    len(brand_titles)"
   ]
  },
  {
   "cell_type": "code",
   "execution_count": 43,
   "id": "d04f7b81",
   "metadata": {},
   "outputs": [
    {
     "data": {
      "text/plain": [
       "['I Flash',\n",
       " 'I Flash',\n",
       " 'Fastrack',\n",
       " 'Fastrack',\n",
       " 'Elligator',\n",
       " 'SRPM',\n",
       " 'SUNBEE',\n",
       " 'Silver Kartz',\n",
       " 'New Specs',\n",
       " 'SHAAH COLLECTIONS',\n",
       " 'PIRASO',\n",
       " 'Singco India',\n",
       " 'SHAAH COLLECTIONS',\n",
       " 'Fastrack',\n",
       " 'kingsunglasses',\n",
       " 'GANSTA',\n",
       " 'SUNBEE',\n",
       " 'ROZZETTA CRAFT',\n",
       " 'PHENOMENAL',\n",
       " 'Silver Kartz',\n",
       " 'Johaena',\n",
       " 'ROZZETTA CRAFT',\n",
       " 'Elligator',\n",
       " 'ROYAL SON',\n",
       " 'GANSTA',\n",
       " 'maxa',\n",
       " 'PHENOMENAL',\n",
       " 'VINCENT CHASE',\n",
       " 'Fastrack',\n",
       " 'Elligator',\n",
       " 'PIRASO',\n",
       " 'ROYAL SON',\n",
       " 'SUNBEE',\n",
       " 'PHENOMENAL',\n",
       " 'Elligator',\n",
       " 'VINCENT CHASE',\n",
       " 'Fastrack',\n",
       " 'New Specs',\n",
       " 'Lee Topper',\n",
       " 'ROYAL SON']"
      ]
     },
     "execution_count": 43,
     "metadata": {},
     "output_type": "execute_result"
    }
   ],
   "source": [
    "brand_titles"
   ]
  },
  {
   "cell_type": "code",
   "execution_count": 44,
   "id": "9322297c",
   "metadata": {},
   "outputs": [
    {
     "data": {
      "text/plain": [
       "40"
      ]
     },
     "execution_count": 44,
     "metadata": {},
     "output_type": "execute_result"
    }
   ],
   "source": [
    "price_tags = driver.find_elements_by_xpath('//div[@class=\"_30jeq3\"]')\n",
    "len(price_tags)"
   ]
  },
  {
   "cell_type": "code",
   "execution_count": 45,
   "id": "a952e6b4",
   "metadata": {},
   "outputs": [],
   "source": [
    "price_titles = []\n",
    "for i in price_tags:\n",
    "    price_titles.append(i.text)\n",
    "    len(price_titles)"
   ]
  },
  {
   "cell_type": "code",
   "execution_count": 46,
   "id": "fcc41672",
   "metadata": {},
   "outputs": [
    {
     "data": {
      "text/plain": [
       "['₹134',\n",
       " '₹149',\n",
       " '₹489',\n",
       " '₹689',\n",
       " '₹248',\n",
       " '₹188',\n",
       " '₹243',\n",
       " '₹367',\n",
       " '₹234',\n",
       " '₹181',\n",
       " '₹229',\n",
       " '₹664',\n",
       " '₹165',\n",
       " '₹639',\n",
       " '₹178',\n",
       " '₹279',\n",
       " '₹271',\n",
       " '₹499',\n",
       " '₹309',\n",
       " '₹255',\n",
       " '₹146',\n",
       " '₹399',\n",
       " '₹189',\n",
       " '₹569',\n",
       " '₹269',\n",
       " '₹144',\n",
       " '₹299',\n",
       " '₹999',\n",
       " '₹718',\n",
       " '₹230',\n",
       " '₹200',\n",
       " '₹449',\n",
       " '₹235',\n",
       " '₹269',\n",
       " '₹265',\n",
       " '₹1,179',\n",
       " '₹626',\n",
       " '₹259',\n",
       " '₹199',\n",
       " '₹759']"
      ]
     },
     "execution_count": 46,
     "metadata": {},
     "output_type": "execute_result"
    }
   ],
   "source": [
    "price_titles"
   ]
  },
  {
   "cell_type": "code",
   "execution_count": 47,
   "id": "212d015a",
   "metadata": {},
   "outputs": [
    {
     "data": {
      "text/plain": [
       "38"
      ]
     },
     "execution_count": 47,
     "metadata": {},
     "output_type": "execute_result"
    }
   ],
   "source": [
    "description_tags = driver.find_elements_by_xpath('//a[@class=\"IRpwTa\"]')\n",
    "len(description_tags)"
   ]
  },
  {
   "cell_type": "code",
   "execution_count": 48,
   "id": "676a9bfd",
   "metadata": {},
   "outputs": [],
   "source": [
    "description_titles = []\n",
    "for i in description_tags:\n",
    "    description_titles.append(i.text)\n",
    "    len(description_titles)"
   ]
  },
  {
   "cell_type": "code",
   "execution_count": 19,
   "id": "b3fe1b71",
   "metadata": {},
   "outputs": [
    {
     "data": {
      "text/plain": [
       "['Gradient, UV Protection Wayfarer Sunglasses (Free Size)',\n",
       " 'UV Protection Wayfarer Sunglasses (Free Size)',\n",
       " 'UV Protection Round Sunglasses (54)',\n",
       " 'UV Protection Wayfarer Sunglasses (50)',\n",
       " 'UV Protection, Polarized Wayfarer Sunglasses (Free Size...',\n",
       " 'UV Protection Clubmaster Sunglasses (53)',\n",
       " 'UV Protection Rectangular Sunglasses (Free Size)',\n",
       " 'UV Protection, Polarized, Mirrored Rectangular Sunglass...',\n",
       " 'UV Protection Aviator Sunglasses (54)',\n",
       " 'Gradient, Toughened Glass Lens, UV Protection Retro Squ...',\n",
       " 'UV Protection, Polarized, Mirrored Rectangular Sunglass...',\n",
       " 'UV Protection Rectangular Sunglasses (Free Size)',\n",
       " 'UV Protection Round Sunglasses (54)',\n",
       " 'UV Protection, Night Vision, Riding Glasses Aviator Sun...',\n",
       " 'UV Protection, Polarized, Mirrored Round Sunglasses (Fr...',\n",
       " 'Polarized, Night Vision, Riding Glasses Sports, Wrap-ar...',\n",
       " 'UV Protection Retro Square Sunglasses (Free Size)',\n",
       " 'UV Protection Rectangular Sunglasses (58)',\n",
       " 'Riding Glasses, UV Protection Oval Sunglasses (48)',\n",
       " 'UV Protection, Gradient Rectangular Sunglasses (Free Si...',\n",
       " 'UV Protection Round Sunglasses (53)',\n",
       " 'UV Protection Aviator Sunglasses (88)',\n",
       " 'UV Protection Aviator Sunglasses (57)',\n",
       " 'UV Protection, Riding Glasses Rectangular, Wayfarer, Ov...',\n",
       " 'UV Protection, Mirrored Retro Square Sunglasses (53)',\n",
       " 'UV Protection Retro Square Sunglasses (88)',\n",
       " 'UV Protection Wayfarer Sunglasses (55)',\n",
       " 'UV Protection Round Sunglasses (50)',\n",
       " 'UV Protection Aviator Sunglasses (54)',\n",
       " 'by Lenskart UV Protection Aviator Sunglasses (Free Size...',\n",
       " 'UV Protection, Polarized, Mirrored Retro Square Sunglas...',\n",
       " 'UV Protection Retro Square Sunglasses (53)',\n",
       " 'UV Protection Round Sunglasses (54)',\n",
       " 'Polarized, UV Protection Aviator Sunglasses (58)',\n",
       " 'Gradient, UV Protection Wayfarer Sunglasses (Free Size)',\n",
       " 'Mirrored, UV Protection, Riding Glasses, Others Round S...',\n",
       " 'UV Protection Rectangular Sunglasses (Free Size)',\n",
       " 'by Lenskart Polarized, UV Protection Round Sunglasses (...']"
      ]
     },
     "execution_count": 19,
     "metadata": {},
     "output_type": "execute_result"
    }
   ],
   "source": [
    "description_titles"
   ]
  },
  {
   "cell_type": "code",
   "execution_count": 20,
   "id": "1f312bd5",
   "metadata": {},
   "outputs": [
    {
     "data": {
      "text/plain": [
       "1"
      ]
     },
     "execution_count": 20,
     "metadata": {},
     "output_type": "execute_result"
    }
   ],
   "source": [
    "next_page = driver.find_elements_by_xpath('/html/body/div[1]/div/div[3]/div[1]/div[2]/div[12]/div/div/nav/a[11]')\n",
    "len(next_page)"
   ]
  },
  {
   "cell_type": "code",
   "execution_count": 25,
   "id": "84d04fdf",
   "metadata": {},
   "outputs": [
    {
     "data": {
      "text/plain": [
       "[<selenium.webdriver.remote.webelement.WebElement (session=\"b6557aaf326255f896b6899621b3a19b\", element=\"f15ad3d4-d864-48c5-bb61-04bc219617d0\")>]"
      ]
     },
     "execution_count": 25,
     "metadata": {},
     "output_type": "execute_result"
    }
   ],
   "source": [
    "next_page"
   ]
  },
  {
   "cell_type": "code",
   "execution_count": 26,
   "id": "174a0d6d",
   "metadata": {},
   "outputs": [
    {
     "data": {
      "text/plain": [
       "40"
      ]
     },
     "execution_count": 26,
     "metadata": {},
     "output_type": "execute_result"
    }
   ],
   "source": [
    "brand_tags = driver.find_elements_by_xpath('//div[@class=\"_2WkVRV\"]')\n",
    "len(brand_tags)"
   ]
  },
  {
   "cell_type": "code",
   "execution_count": 27,
   "id": "50762b3b",
   "metadata": {},
   "outputs": [],
   "source": [
    "brand_titles = []\n",
    "for i in brand_tags:\n",
    "    brand_titles.append(i.text)\n",
    "    len(brand_titles)"
   ]
  },
  {
   "cell_type": "code",
   "execution_count": 35,
   "id": "08d0054b",
   "metadata": {},
   "outputs": [
    {
     "data": {
      "text/plain": [
       "['Singco India',\n",
       " 'PIRASO',\n",
       " 'Elligator',\n",
       " 'SRPM',\n",
       " 'Fastrack',\n",
       " 'PIRASO',\n",
       " 'New Specs',\n",
       " 'Silver Kartz',\n",
       " 'SHAAH COLLECTIONS',\n",
       " 'SUNBEE',\n",
       " 'kingsunglasses',\n",
       " 'ROZZETTA CRAFT',\n",
       " 'Fastrack',\n",
       " 'SHAAH COLLECTIONS',\n",
       " 'SUNBEE',\n",
       " 'ROZZETTA CRAFT',\n",
       " 'ROZZETTA CRAFT',\n",
       " 'ROZZETTA CRAFT',\n",
       " 'PHENOMENAL',\n",
       " 'Silver Kartz',\n",
       " 'Elligator',\n",
       " 'Elligator',\n",
       " 'PHENOMENAL',\n",
       " 'PIRASO',\n",
       " 'kingsunglasses',\n",
       " 'Fastrack',\n",
       " 'SUNBEE',\n",
       " 'ROZZETTA CRAFT',\n",
       " 'PHENOMENAL',\n",
       " 'Elligator',\n",
       " 'GANSTA',\n",
       " 'PIRASO',\n",
       " 'Lee Topper',\n",
       " 'PIRASO',\n",
       " 'maxa',\n",
       " 'ROYAL SON',\n",
       " 'Johaena',\n",
       " 'New Specs',\n",
       " 'Lee Topper',\n",
       " 'PIRASO']"
      ]
     },
     "execution_count": 35,
     "metadata": {},
     "output_type": "execute_result"
    }
   ],
   "source": [
    "brand_titles"
   ]
  },
  {
   "cell_type": "code",
   "execution_count": 36,
   "id": "c63010d6",
   "metadata": {},
   "outputs": [
    {
     "data": {
      "text/plain": [
       "40"
      ]
     },
     "execution_count": 36,
     "metadata": {},
     "output_type": "execute_result"
    }
   ],
   "source": [
    "price_tags = driver.find_elements_by_xpath('//div[@class=\"_30jeq3\"]')\n",
    "len(price_tags)"
   ]
  },
  {
   "cell_type": "code",
   "execution_count": 30,
   "id": "966afd3f",
   "metadata": {},
   "outputs": [],
   "source": [
    "price_titles = []\n",
    "for i in price_tags:\n",
    "    price_titles.append(i.text)\n",
    "    len(price_titles)"
   ]
  },
  {
   "cell_type": "code",
   "execution_count": 31,
   "id": "ad4eeb5f",
   "metadata": {},
   "outputs": [
    {
     "data": {
      "text/plain": [
       "['₹664',\n",
       " '₹202',\n",
       " '₹248',\n",
       " '₹149',\n",
       " '₹489',\n",
       " '₹180',\n",
       " '₹234',\n",
       " '₹367',\n",
       " '₹165',\n",
       " '₹271',\n",
       " '₹186',\n",
       " '₹499',\n",
       " '₹639',\n",
       " '₹181',\n",
       " '₹243',\n",
       " '₹449',\n",
       " '₹499',\n",
       " '₹399',\n",
       " '₹309',\n",
       " '₹255',\n",
       " '₹189',\n",
       " '₹265',\n",
       " '₹299',\n",
       " '₹325',\n",
       " '₹174',\n",
       " '₹626',\n",
       " '₹235',\n",
       " '₹349',\n",
       " '₹269',\n",
       " '₹230',\n",
       " '₹269',\n",
       " '₹269',\n",
       " '₹199',\n",
       " '₹225',\n",
       " '₹144',\n",
       " '₹359',\n",
       " '₹146',\n",
       " '₹259',\n",
       " '₹276',\n",
       " '₹269']"
      ]
     },
     "execution_count": 31,
     "metadata": {},
     "output_type": "execute_result"
    }
   ],
   "source": [
    "price_titles"
   ]
  },
  {
   "cell_type": "code",
   "execution_count": 45,
   "id": "ac97078f",
   "metadata": {},
   "outputs": [
    {
     "data": {
      "text/plain": [
       "40"
      ]
     },
     "execution_count": 45,
     "metadata": {},
     "output_type": "execute_result"
    }
   ],
   "source": [
    "description_tags = driver.find_elements_by_xpath('//a[@class=\"IRpwTa\"]')\n",
    "len(description_tags)"
   ]
  },
  {
   "cell_type": "code",
   "execution_count": 46,
   "id": "516ed9c2",
   "metadata": {},
   "outputs": [],
   "source": [
    "description_titles = []\n",
    "for i in description_tags:\n",
    "    description_titles.append(i.text)\n",
    "    len(description_titles)"
   ]
  },
  {
   "cell_type": "code",
   "execution_count": 47,
   "id": "d4cc0d20",
   "metadata": {},
   "outputs": [
    {
     "data": {
      "text/plain": [
       "['Gradient, Toughened Glass Lens, UV Protection Retro Squ...',\n",
       " 'UV Protection Aviator Sunglasses (55)',\n",
       " 'UV Protection Round Sunglasses (54)',\n",
       " 'UV Protection Wayfarer Sunglasses (50)',\n",
       " 'Gradient, UV Protection Wayfarer Sunglasses (Free Size)',\n",
       " 'UV Protection Aviator Sunglasses (54)',\n",
       " 'UV Protection Rectangular Sunglasses (Free Size)',\n",
       " 'UV Protection Clubmaster Sunglasses (53)',\n",
       " 'UV Protection, Polarized, Mirrored Rectangular Sunglass...',\n",
       " 'UV Protection, Polarized, Mirrored Round Sunglasses (Fr...',\n",
       " 'UV Protection Round Sunglasses (54)',\n",
       " 'UV Protection, Gradient Retro Square Sunglasses (62)',\n",
       " 'UV Protection Rectangular Sunglasses (Free Size)',\n",
       " 'UV Protection, Polarized, Mirrored Rectangular Sunglass...',\n",
       " 'UV Protection, Polarized Wayfarer Sunglasses (Free Size...',\n",
       " 'UV Protection, Riding Glasses Rectangular Sunglasses (F...',\n",
       " 'Polarized, Night Vision, Riding Glasses Sports, Wrap-ar...',\n",
       " 'UV Protection, Gradient Rectangular Sunglasses (Free Si...',\n",
       " 'UV Protection Retro Square Sunglasses (Free Size)',\n",
       " 'UV Protection Aviator Sunglasses (88)',\n",
       " 'UV Protection Round Sunglasses (53)',\n",
       " 'UV Protection Round Sunglasses (54)',\n",
       " 'UV Protection, Mirrored Retro Square Sunglasses (53)',\n",
       " 'UV Protection Rectangular, Over-sized Sunglasses (Free ...',\n",
       " 'UV Protection, Others Round, Aviator Sunglasses (54)',\n",
       " 'Gradient, UV Protection Wayfarer Sunglasses (Free Size)',\n",
       " 'UV Protection, Polarized, Mirrored Retro Square Sunglas...',\n",
       " 'UV Protection, Gradient Retro Square Sunglasses (Free S...',\n",
       " 'UV Protection Retro Square Sunglasses (53)',\n",
       " 'UV Protection Round Sunglasses (50)',\n",
       " 'UV Protection Aviator Sunglasses (57)',\n",
       " 'UV Protection Aviator Sunglasses (Free Size)',\n",
       " 'UV Protection Rectangular Sunglasses (Free Size)',\n",
       " 'UV Protection Aviator Sunglasses (54)',\n",
       " 'UV Protection, Riding Glasses Rectangular, Wayfarer, Ov...',\n",
       " 'Mirrored Aviator Sunglasses (55)',\n",
       " 'Riding Glasses, UV Protection Oval Sunglasses (48)',\n",
       " 'Mirrored, UV Protection, Riding Glasses, Others Round S...',\n",
       " 'Riding Glasses, Night Vision Wrap-around Sunglasses (Fr...',\n",
       " 'UV Protection Aviator Sunglasses (58)']"
      ]
     },
     "execution_count": 47,
     "metadata": {},
     "output_type": "execute_result"
    }
   ],
   "source": [
    "description_titles"
   ]
  },
  {
   "cell_type": "code",
   "execution_count": 50,
   "id": "b1679f24",
   "metadata": {},
   "outputs": [
    {
     "data": {
      "text/plain": [
       "1"
      ]
     },
     "execution_count": 50,
     "metadata": {},
     "output_type": "execute_result"
    }
   ],
   "source": [
    "next_page = driver.find_elements_by_xpath('/html/body/div[1]/div/div[3]/div[1]/div[2]/div[12]/div/div/nav/a[11]')\n",
    "len(next_page)"
   ]
  },
  {
   "cell_type": "code",
   "execution_count": 51,
   "id": "49198a10",
   "metadata": {},
   "outputs": [
    {
     "data": {
      "text/plain": [
       "[<selenium.webdriver.remote.webelement.WebElement (session=\"b6557aaf326255f896b6899621b3a19b\", element=\"f15ad3d4-d864-48c5-bb61-04bc219617d0\")>]"
      ]
     },
     "execution_count": 51,
     "metadata": {},
     "output_type": "execute_result"
    }
   ],
   "source": [
    "next_page"
   ]
  },
  {
   "cell_type": "code",
   "execution_count": 62,
   "id": "7a0e9b26",
   "metadata": {},
   "outputs": [
    {
     "data": {
      "text/plain": [
       "40"
      ]
     },
     "execution_count": 62,
     "metadata": {},
     "output_type": "execute_result"
    }
   ],
   "source": [
    "brand_tags = driver.find_elements_by_xpath('//div[@class=\"_2WkVRV\"]')\n",
    "len(brand_tags)"
   ]
  },
  {
   "cell_type": "code",
   "execution_count": 53,
   "id": "4a9435a5",
   "metadata": {},
   "outputs": [],
   "source": [
    "brand_titles = []\n",
    "for i in brand_tags:\n",
    "    brand_titles.append(i.text)\n",
    "    len(brand_titles)"
   ]
  },
  {
   "cell_type": "code",
   "execution_count": 54,
   "id": "647d12dc",
   "metadata": {},
   "outputs": [
    {
     "data": {
      "text/plain": [
       "[<selenium.webdriver.remote.webelement.WebElement (session=\"b6557aaf326255f896b6899621b3a19b\", element=\"8a293967-7849-4ded-8e39-b57dfed813eb\")>,\n",
       " <selenium.webdriver.remote.webelement.WebElement (session=\"b6557aaf326255f896b6899621b3a19b\", element=\"ece4d5ad-a431-4c57-8903-09a7dbdc378f\")>,\n",
       " <selenium.webdriver.remote.webelement.WebElement (session=\"b6557aaf326255f896b6899621b3a19b\", element=\"f56dbefa-c15c-4050-a3b5-fc3b997929ff\")>,\n",
       " <selenium.webdriver.remote.webelement.WebElement (session=\"b6557aaf326255f896b6899621b3a19b\", element=\"563074d6-7133-4497-a1ed-4a0fc9226839\")>,\n",
       " <selenium.webdriver.remote.webelement.WebElement (session=\"b6557aaf326255f896b6899621b3a19b\", element=\"5f72d1af-217b-405a-be03-f4f567773a91\")>,\n",
       " <selenium.webdriver.remote.webelement.WebElement (session=\"b6557aaf326255f896b6899621b3a19b\", element=\"b30cacd6-1009-40b1-9726-7de1630e26e9\")>,\n",
       " <selenium.webdriver.remote.webelement.WebElement (session=\"b6557aaf326255f896b6899621b3a19b\", element=\"8b8f194e-4a39-4df1-8dca-b6a6924dccd3\")>,\n",
       " <selenium.webdriver.remote.webelement.WebElement (session=\"b6557aaf326255f896b6899621b3a19b\", element=\"b7bc7386-b7e9-4d6d-90fc-68776e2b7f81\")>,\n",
       " <selenium.webdriver.remote.webelement.WebElement (session=\"b6557aaf326255f896b6899621b3a19b\", element=\"ee436001-2014-4965-be35-afa6bb351607\")>,\n",
       " <selenium.webdriver.remote.webelement.WebElement (session=\"b6557aaf326255f896b6899621b3a19b\", element=\"bafacfce-03e8-4cd6-a01d-e42fd3957ccb\")>,\n",
       " <selenium.webdriver.remote.webelement.WebElement (session=\"b6557aaf326255f896b6899621b3a19b\", element=\"117b755c-c477-466c-9484-991c8a592fc7\")>,\n",
       " <selenium.webdriver.remote.webelement.WebElement (session=\"b6557aaf326255f896b6899621b3a19b\", element=\"64318e82-3671-4edd-bf91-5e426e46d180\")>,\n",
       " <selenium.webdriver.remote.webelement.WebElement (session=\"b6557aaf326255f896b6899621b3a19b\", element=\"ee5c6627-4c42-4cc5-9881-d6569b6483b3\")>,\n",
       " <selenium.webdriver.remote.webelement.WebElement (session=\"b6557aaf326255f896b6899621b3a19b\", element=\"6421a04e-370f-45a3-9984-8aac5a1112f6\")>,\n",
       " <selenium.webdriver.remote.webelement.WebElement (session=\"b6557aaf326255f896b6899621b3a19b\", element=\"65214926-edc4-4843-97f9-31bbd68da5b0\")>,\n",
       " <selenium.webdriver.remote.webelement.WebElement (session=\"b6557aaf326255f896b6899621b3a19b\", element=\"399bfce1-e0a8-4575-bbd7-94d4503bdd46\")>,\n",
       " <selenium.webdriver.remote.webelement.WebElement (session=\"b6557aaf326255f896b6899621b3a19b\", element=\"d2450bdf-b67b-42c4-ab73-442fe90fe2c3\")>,\n",
       " <selenium.webdriver.remote.webelement.WebElement (session=\"b6557aaf326255f896b6899621b3a19b\", element=\"fe2138c7-836f-4cd1-ac86-00744114b665\")>,\n",
       " <selenium.webdriver.remote.webelement.WebElement (session=\"b6557aaf326255f896b6899621b3a19b\", element=\"2413eb28-6cc6-4b32-a098-d6526e7d644d\")>,\n",
       " <selenium.webdriver.remote.webelement.WebElement (session=\"b6557aaf326255f896b6899621b3a19b\", element=\"dd5527b8-9588-4aea-9901-19903a446535\")>,\n",
       " <selenium.webdriver.remote.webelement.WebElement (session=\"b6557aaf326255f896b6899621b3a19b\", element=\"0b66b8da-bd61-4f25-bace-e633bd1ee3d5\")>,\n",
       " <selenium.webdriver.remote.webelement.WebElement (session=\"b6557aaf326255f896b6899621b3a19b\", element=\"6a85e840-38f8-424e-9212-c6ea019db432\")>,\n",
       " <selenium.webdriver.remote.webelement.WebElement (session=\"b6557aaf326255f896b6899621b3a19b\", element=\"1e875476-5909-46f5-855e-2bfea5830169\")>,\n",
       " <selenium.webdriver.remote.webelement.WebElement (session=\"b6557aaf326255f896b6899621b3a19b\", element=\"c63eab59-3ca1-4e4c-916d-69218b9d266c\")>,\n",
       " <selenium.webdriver.remote.webelement.WebElement (session=\"b6557aaf326255f896b6899621b3a19b\", element=\"dc5cc943-6538-4f31-8a39-3288fa60b3df\")>,\n",
       " <selenium.webdriver.remote.webelement.WebElement (session=\"b6557aaf326255f896b6899621b3a19b\", element=\"78cecffd-e42a-4ecc-89f0-1bbff45d4e01\")>,\n",
       " <selenium.webdriver.remote.webelement.WebElement (session=\"b6557aaf326255f896b6899621b3a19b\", element=\"50f175c9-e675-487f-a2b7-2c89b421de20\")>,\n",
       " <selenium.webdriver.remote.webelement.WebElement (session=\"b6557aaf326255f896b6899621b3a19b\", element=\"877c3420-76a8-4fb1-99eb-0c4c03414dc2\")>,\n",
       " <selenium.webdriver.remote.webelement.WebElement (session=\"b6557aaf326255f896b6899621b3a19b\", element=\"7bb5ce1d-1508-4d00-8429-560dbe24a134\")>,\n",
       " <selenium.webdriver.remote.webelement.WebElement (session=\"b6557aaf326255f896b6899621b3a19b\", element=\"d50069ce-b002-4b03-8bd5-c242e479f6e4\")>,\n",
       " <selenium.webdriver.remote.webelement.WebElement (session=\"b6557aaf326255f896b6899621b3a19b\", element=\"861ab20d-e7e4-4c93-b9e7-1cfc5a93280c\")>,\n",
       " <selenium.webdriver.remote.webelement.WebElement (session=\"b6557aaf326255f896b6899621b3a19b\", element=\"5b26c232-2d5f-42cb-a6a4-855990b86bfe\")>,\n",
       " <selenium.webdriver.remote.webelement.WebElement (session=\"b6557aaf326255f896b6899621b3a19b\", element=\"b73b7420-7bb8-4d64-bbff-83a52840713d\")>,\n",
       " <selenium.webdriver.remote.webelement.WebElement (session=\"b6557aaf326255f896b6899621b3a19b\", element=\"6828d63e-476b-4f98-a78f-696c38660554\")>,\n",
       " <selenium.webdriver.remote.webelement.WebElement (session=\"b6557aaf326255f896b6899621b3a19b\", element=\"7cbda90a-0e2a-4d64-8f7f-a5dd6842a07a\")>,\n",
       " <selenium.webdriver.remote.webelement.WebElement (session=\"b6557aaf326255f896b6899621b3a19b\", element=\"edfea022-6311-4e0c-acb6-f775a17395c5\")>,\n",
       " <selenium.webdriver.remote.webelement.WebElement (session=\"b6557aaf326255f896b6899621b3a19b\", element=\"5349f131-2cbe-47e4-9200-0b383238cb0a\")>,\n",
       " <selenium.webdriver.remote.webelement.WebElement (session=\"b6557aaf326255f896b6899621b3a19b\", element=\"f3a1c5da-a6c6-49fb-8c47-38199425e453\")>,\n",
       " <selenium.webdriver.remote.webelement.WebElement (session=\"b6557aaf326255f896b6899621b3a19b\", element=\"fa0ee607-cfc2-4c7a-bc35-fad2e7bd6a77\")>,\n",
       " <selenium.webdriver.remote.webelement.WebElement (session=\"b6557aaf326255f896b6899621b3a19b\", element=\"a574b9d5-bd8a-4b1a-8994-e077164cbf6f\")>]"
      ]
     },
     "execution_count": 54,
     "metadata": {},
     "output_type": "execute_result"
    }
   ],
   "source": [
    "brand_tags"
   ]
  },
  {
   "cell_type": "code",
   "execution_count": 55,
   "id": "4bdb6c33",
   "metadata": {},
   "outputs": [
    {
     "data": {
      "text/plain": [
       "40"
      ]
     },
     "execution_count": 55,
     "metadata": {},
     "output_type": "execute_result"
    }
   ],
   "source": [
    "price_tags = driver.find_elements_by_xpath('//div[@class=\"_30jeq3\"]')\n",
    "len(price_tags)"
   ]
  },
  {
   "cell_type": "code",
   "execution_count": 56,
   "id": "2196af46",
   "metadata": {},
   "outputs": [],
   "source": [
    "price_titles = []\n",
    "for i in price_tags:\n",
    "    price_titles.append(i.text)\n",
    "    len(price_titles)"
   ]
  },
  {
   "cell_type": "code",
   "execution_count": 57,
   "id": "0dce50cf",
   "metadata": {},
   "outputs": [
    {
     "data": {
      "text/plain": [
       "['₹664',\n",
       " '₹202',\n",
       " '₹248',\n",
       " '₹149',\n",
       " '₹489',\n",
       " '₹180',\n",
       " '₹234',\n",
       " '₹367',\n",
       " '₹165',\n",
       " '₹271',\n",
       " '₹186',\n",
       " '₹499',\n",
       " '₹639',\n",
       " '₹181',\n",
       " '₹243',\n",
       " '₹449',\n",
       " '₹499',\n",
       " '₹399',\n",
       " '₹309',\n",
       " '₹255',\n",
       " '₹189',\n",
       " '₹265',\n",
       " '₹299',\n",
       " '₹325',\n",
       " '₹174',\n",
       " '₹626',\n",
       " '₹235',\n",
       " '₹349',\n",
       " '₹269',\n",
       " '₹230',\n",
       " '₹269',\n",
       " '₹269',\n",
       " '₹199',\n",
       " '₹225',\n",
       " '₹144',\n",
       " '₹359',\n",
       " '₹146',\n",
       " '₹259',\n",
       " '₹276',\n",
       " '₹269']"
      ]
     },
     "execution_count": 57,
     "metadata": {},
     "output_type": "execute_result"
    }
   ],
   "source": [
    "price_titles"
   ]
  },
  {
   "cell_type": "code",
   "execution_count": 58,
   "id": "211d3841",
   "metadata": {},
   "outputs": [
    {
     "data": {
      "text/plain": [
       "40"
      ]
     },
     "execution_count": 58,
     "metadata": {},
     "output_type": "execute_result"
    }
   ],
   "source": [
    "description_tags = driver.find_elements_by_xpath('//a[@class=\"IRpwTa\"]')\n",
    "len(description_tags)"
   ]
  },
  {
   "cell_type": "code",
   "execution_count": 59,
   "id": "9661e7fa",
   "metadata": {},
   "outputs": [],
   "source": [
    "description_titles = []\n",
    "for i in description_tags:\n",
    "    description_titles.append(i.text)\n",
    "    len(description_titles)"
   ]
  },
  {
   "cell_type": "code",
   "execution_count": 60,
   "id": "2677177e",
   "metadata": {},
   "outputs": [
    {
     "data": {
      "text/plain": [
       "['Gradient, Toughened Glass Lens, UV Protection Retro Squ...',\n",
       " 'UV Protection Aviator Sunglasses (55)',\n",
       " 'UV Protection Round Sunglasses (54)',\n",
       " 'UV Protection Wayfarer Sunglasses (50)',\n",
       " 'Gradient, UV Protection Wayfarer Sunglasses (Free Size)',\n",
       " 'UV Protection Aviator Sunglasses (54)',\n",
       " 'UV Protection Rectangular Sunglasses (Free Size)',\n",
       " 'UV Protection Clubmaster Sunglasses (53)',\n",
       " 'UV Protection, Polarized, Mirrored Rectangular Sunglass...',\n",
       " 'UV Protection, Polarized, Mirrored Round Sunglasses (Fr...',\n",
       " 'UV Protection Round Sunglasses (54)',\n",
       " 'UV Protection, Gradient Retro Square Sunglasses (62)',\n",
       " 'UV Protection Rectangular Sunglasses (Free Size)',\n",
       " 'UV Protection, Polarized, Mirrored Rectangular Sunglass...',\n",
       " 'UV Protection, Polarized Wayfarer Sunglasses (Free Size...',\n",
       " 'UV Protection, Riding Glasses Rectangular Sunglasses (F...',\n",
       " 'Polarized, Night Vision, Riding Glasses Sports, Wrap-ar...',\n",
       " 'UV Protection, Gradient Rectangular Sunglasses (Free Si...',\n",
       " 'UV Protection Retro Square Sunglasses (Free Size)',\n",
       " 'UV Protection Aviator Sunglasses (88)',\n",
       " 'UV Protection Round Sunglasses (53)',\n",
       " 'UV Protection Round Sunglasses (54)',\n",
       " 'UV Protection, Mirrored Retro Square Sunglasses (53)',\n",
       " 'UV Protection Rectangular, Over-sized Sunglasses (Free ...',\n",
       " 'UV Protection, Others Round, Aviator Sunglasses (54)',\n",
       " 'Gradient, UV Protection Wayfarer Sunglasses (Free Size)',\n",
       " 'UV Protection, Polarized, Mirrored Retro Square Sunglas...',\n",
       " 'UV Protection, Gradient Retro Square Sunglasses (Free S...',\n",
       " 'UV Protection Retro Square Sunglasses (53)',\n",
       " 'UV Protection Round Sunglasses (50)',\n",
       " 'UV Protection Aviator Sunglasses (57)',\n",
       " 'UV Protection Aviator Sunglasses (Free Size)',\n",
       " 'UV Protection Rectangular Sunglasses (Free Size)',\n",
       " 'UV Protection Aviator Sunglasses (54)',\n",
       " 'UV Protection, Riding Glasses Rectangular, Wayfarer, Ov...',\n",
       " 'Mirrored Aviator Sunglasses (55)',\n",
       " 'Riding Glasses, UV Protection Oval Sunglasses (48)',\n",
       " 'Mirrored, UV Protection, Riding Glasses, Others Round S...',\n",
       " 'Riding Glasses, Night Vision Wrap-around Sunglasses (Fr...',\n",
       " 'UV Protection Aviator Sunglasses (58)']"
      ]
     },
     "execution_count": 60,
     "metadata": {},
     "output_type": "execute_result"
    }
   ],
   "source": [
    "description_titles"
   ]
  },
  {
   "cell_type": "code",
   "execution_count": 68,
   "id": "08049f52",
   "metadata": {},
   "outputs": [
    {
     "data": {
      "text/plain": [
       "(40, 40, 40)"
      ]
     },
     "execution_count": 68,
     "metadata": {},
     "output_type": "execute_result"
    }
   ],
   "source": [
    "len(description_titles),len(price_titles),len(brand_titles)"
   ]
  },
  {
   "cell_type": "code",
   "execution_count": 69,
   "id": "b45101e8",
   "metadata": {},
   "outputs": [
    {
     "data": {
      "text/html": [
       "<div>\n",
       "<style scoped>\n",
       "    .dataframe tbody tr th:only-of-type {\n",
       "        vertical-align: middle;\n",
       "    }\n",
       "\n",
       "    .dataframe tbody tr th {\n",
       "        vertical-align: top;\n",
       "    }\n",
       "\n",
       "    .dataframe thead th {\n",
       "        text-align: right;\n",
       "    }\n",
       "</style>\n",
       "<table border=\"1\" class=\"dataframe\">\n",
       "  <thead>\n",
       "    <tr style=\"text-align: right;\">\n",
       "      <th></th>\n",
       "      <th>Description Title</th>\n",
       "      <th>Price</th>\n",
       "      <th>Brand</th>\n",
       "    </tr>\n",
       "  </thead>\n",
       "  <tbody>\n",
       "    <tr>\n",
       "      <th>0</th>\n",
       "      <td>Gradient, Toughened Glass Lens, UV Protection ...</td>\n",
       "      <td>₹664</td>\n",
       "      <td>Singco India</td>\n",
       "    </tr>\n",
       "    <tr>\n",
       "      <th>1</th>\n",
       "      <td>UV Protection Aviator Sunglasses (55)</td>\n",
       "      <td>₹202</td>\n",
       "      <td>PIRASO</td>\n",
       "    </tr>\n",
       "    <tr>\n",
       "      <th>2</th>\n",
       "      <td>UV Protection Round Sunglasses (54)</td>\n",
       "      <td>₹248</td>\n",
       "      <td>Elligator</td>\n",
       "    </tr>\n",
       "    <tr>\n",
       "      <th>3</th>\n",
       "      <td>UV Protection Wayfarer Sunglasses (50)</td>\n",
       "      <td>₹149</td>\n",
       "      <td>SRPM</td>\n",
       "    </tr>\n",
       "    <tr>\n",
       "      <th>4</th>\n",
       "      <td>Gradient, UV Protection Wayfarer Sunglasses (F...</td>\n",
       "      <td>₹489</td>\n",
       "      <td>Fastrack</td>\n",
       "    </tr>\n",
       "    <tr>\n",
       "      <th>5</th>\n",
       "      <td>UV Protection Aviator Sunglasses (54)</td>\n",
       "      <td>₹180</td>\n",
       "      <td>PIRASO</td>\n",
       "    </tr>\n",
       "    <tr>\n",
       "      <th>6</th>\n",
       "      <td>UV Protection Rectangular Sunglasses (Free Size)</td>\n",
       "      <td>₹234</td>\n",
       "      <td>New Specs</td>\n",
       "    </tr>\n",
       "    <tr>\n",
       "      <th>7</th>\n",
       "      <td>UV Protection Clubmaster Sunglasses (53)</td>\n",
       "      <td>₹367</td>\n",
       "      <td>Silver Kartz</td>\n",
       "    </tr>\n",
       "    <tr>\n",
       "      <th>8</th>\n",
       "      <td>UV Protection, Polarized, Mirrored Rectangular...</td>\n",
       "      <td>₹165</td>\n",
       "      <td>SHAAH COLLECTIONS</td>\n",
       "    </tr>\n",
       "    <tr>\n",
       "      <th>9</th>\n",
       "      <td>UV Protection, Polarized, Mirrored Round Sungl...</td>\n",
       "      <td>₹271</td>\n",
       "      <td>SUNBEE</td>\n",
       "    </tr>\n",
       "    <tr>\n",
       "      <th>10</th>\n",
       "      <td>UV Protection Round Sunglasses (54)</td>\n",
       "      <td>₹186</td>\n",
       "      <td>kingsunglasses</td>\n",
       "    </tr>\n",
       "    <tr>\n",
       "      <th>11</th>\n",
       "      <td>UV Protection, Gradient Retro Square Sunglasse...</td>\n",
       "      <td>₹499</td>\n",
       "      <td>ROZZETTA CRAFT</td>\n",
       "    </tr>\n",
       "    <tr>\n",
       "      <th>12</th>\n",
       "      <td>UV Protection Rectangular Sunglasses (Free Size)</td>\n",
       "      <td>₹639</td>\n",
       "      <td>Fastrack</td>\n",
       "    </tr>\n",
       "    <tr>\n",
       "      <th>13</th>\n",
       "      <td>UV Protection, Polarized, Mirrored Rectangular...</td>\n",
       "      <td>₹181</td>\n",
       "      <td>SHAAH COLLECTIONS</td>\n",
       "    </tr>\n",
       "    <tr>\n",
       "      <th>14</th>\n",
       "      <td>UV Protection, Polarized Wayfarer Sunglasses (...</td>\n",
       "      <td>₹243</td>\n",
       "      <td>SUNBEE</td>\n",
       "    </tr>\n",
       "    <tr>\n",
       "      <th>15</th>\n",
       "      <td>UV Protection, Riding Glasses Rectangular Sung...</td>\n",
       "      <td>₹449</td>\n",
       "      <td>ROZZETTA CRAFT</td>\n",
       "    </tr>\n",
       "    <tr>\n",
       "      <th>16</th>\n",
       "      <td>Polarized, Night Vision, Riding Glasses Sports...</td>\n",
       "      <td>₹499</td>\n",
       "      <td>ROZZETTA CRAFT</td>\n",
       "    </tr>\n",
       "    <tr>\n",
       "      <th>17</th>\n",
       "      <td>UV Protection, Gradient Rectangular Sunglasses...</td>\n",
       "      <td>₹399</td>\n",
       "      <td>ROZZETTA CRAFT</td>\n",
       "    </tr>\n",
       "    <tr>\n",
       "      <th>18</th>\n",
       "      <td>UV Protection Retro Square Sunglasses (Free Size)</td>\n",
       "      <td>₹309</td>\n",
       "      <td>PHENOMENAL</td>\n",
       "    </tr>\n",
       "    <tr>\n",
       "      <th>19</th>\n",
       "      <td>UV Protection Aviator Sunglasses (88)</td>\n",
       "      <td>₹255</td>\n",
       "      <td>Silver Kartz</td>\n",
       "    </tr>\n",
       "    <tr>\n",
       "      <th>20</th>\n",
       "      <td>UV Protection Round Sunglasses (53)</td>\n",
       "      <td>₹189</td>\n",
       "      <td>Elligator</td>\n",
       "    </tr>\n",
       "    <tr>\n",
       "      <th>21</th>\n",
       "      <td>UV Protection Round Sunglasses (54)</td>\n",
       "      <td>₹265</td>\n",
       "      <td>Elligator</td>\n",
       "    </tr>\n",
       "    <tr>\n",
       "      <th>22</th>\n",
       "      <td>UV Protection, Mirrored Retro Square Sunglasse...</td>\n",
       "      <td>₹299</td>\n",
       "      <td>PHENOMENAL</td>\n",
       "    </tr>\n",
       "    <tr>\n",
       "      <th>23</th>\n",
       "      <td>UV Protection Rectangular, Over-sized Sunglass...</td>\n",
       "      <td>₹325</td>\n",
       "      <td>PIRASO</td>\n",
       "    </tr>\n",
       "    <tr>\n",
       "      <th>24</th>\n",
       "      <td>UV Protection, Others Round, Aviator Sunglasse...</td>\n",
       "      <td>₹174</td>\n",
       "      <td>kingsunglasses</td>\n",
       "    </tr>\n",
       "    <tr>\n",
       "      <th>25</th>\n",
       "      <td>Gradient, UV Protection Wayfarer Sunglasses (F...</td>\n",
       "      <td>₹626</td>\n",
       "      <td>Fastrack</td>\n",
       "    </tr>\n",
       "    <tr>\n",
       "      <th>26</th>\n",
       "      <td>UV Protection, Polarized, Mirrored Retro Squar...</td>\n",
       "      <td>₹235</td>\n",
       "      <td>SUNBEE</td>\n",
       "    </tr>\n",
       "    <tr>\n",
       "      <th>27</th>\n",
       "      <td>UV Protection, Gradient Retro Square Sunglasse...</td>\n",
       "      <td>₹349</td>\n",
       "      <td>ROZZETTA CRAFT</td>\n",
       "    </tr>\n",
       "    <tr>\n",
       "      <th>28</th>\n",
       "      <td>UV Protection Retro Square Sunglasses (53)</td>\n",
       "      <td>₹269</td>\n",
       "      <td>PHENOMENAL</td>\n",
       "    </tr>\n",
       "    <tr>\n",
       "      <th>29</th>\n",
       "      <td>UV Protection Round Sunglasses (50)</td>\n",
       "      <td>₹230</td>\n",
       "      <td>Elligator</td>\n",
       "    </tr>\n",
       "    <tr>\n",
       "      <th>30</th>\n",
       "      <td>UV Protection Aviator Sunglasses (57)</td>\n",
       "      <td>₹269</td>\n",
       "      <td>GANSTA</td>\n",
       "    </tr>\n",
       "    <tr>\n",
       "      <th>31</th>\n",
       "      <td>UV Protection Aviator Sunglasses (Free Size)</td>\n",
       "      <td>₹269</td>\n",
       "      <td>PIRASO</td>\n",
       "    </tr>\n",
       "    <tr>\n",
       "      <th>32</th>\n",
       "      <td>UV Protection Rectangular Sunglasses (Free Size)</td>\n",
       "      <td>₹199</td>\n",
       "      <td>Lee Topper</td>\n",
       "    </tr>\n",
       "    <tr>\n",
       "      <th>33</th>\n",
       "      <td>UV Protection Aviator Sunglasses (54)</td>\n",
       "      <td>₹225</td>\n",
       "      <td>PIRASO</td>\n",
       "    </tr>\n",
       "    <tr>\n",
       "      <th>34</th>\n",
       "      <td>UV Protection, Riding Glasses Rectangular, Way...</td>\n",
       "      <td>₹144</td>\n",
       "      <td>maxa</td>\n",
       "    </tr>\n",
       "    <tr>\n",
       "      <th>35</th>\n",
       "      <td>Mirrored Aviator Sunglasses (55)</td>\n",
       "      <td>₹359</td>\n",
       "      <td>ROYAL SON</td>\n",
       "    </tr>\n",
       "    <tr>\n",
       "      <th>36</th>\n",
       "      <td>Riding Glasses, UV Protection Oval Sunglasses ...</td>\n",
       "      <td>₹146</td>\n",
       "      <td>Johaena</td>\n",
       "    </tr>\n",
       "    <tr>\n",
       "      <th>37</th>\n",
       "      <td>Mirrored, UV Protection, Riding Glasses, Other...</td>\n",
       "      <td>₹259</td>\n",
       "      <td>New Specs</td>\n",
       "    </tr>\n",
       "    <tr>\n",
       "      <th>38</th>\n",
       "      <td>Riding Glasses, Night Vision Wrap-around Sungl...</td>\n",
       "      <td>₹276</td>\n",
       "      <td>Lee Topper</td>\n",
       "    </tr>\n",
       "    <tr>\n",
       "      <th>39</th>\n",
       "      <td>UV Protection Aviator Sunglasses (58)</td>\n",
       "      <td>₹269</td>\n",
       "      <td>PIRASO</td>\n",
       "    </tr>\n",
       "  </tbody>\n",
       "</table>\n",
       "</div>"
      ],
      "text/plain": [
       "                                    Description Title Price              Brand\n",
       "0   Gradient, Toughened Glass Lens, UV Protection ...  ₹664       Singco India\n",
       "1               UV Protection Aviator Sunglasses (55)  ₹202             PIRASO\n",
       "2                 UV Protection Round Sunglasses (54)  ₹248          Elligator\n",
       "3              UV Protection Wayfarer Sunglasses (50)  ₹149               SRPM\n",
       "4   Gradient, UV Protection Wayfarer Sunglasses (F...  ₹489           Fastrack\n",
       "5               UV Protection Aviator Sunglasses (54)  ₹180             PIRASO\n",
       "6    UV Protection Rectangular Sunglasses (Free Size)  ₹234          New Specs\n",
       "7            UV Protection Clubmaster Sunglasses (53)  ₹367       Silver Kartz\n",
       "8   UV Protection, Polarized, Mirrored Rectangular...  ₹165  SHAAH COLLECTIONS\n",
       "9   UV Protection, Polarized, Mirrored Round Sungl...  ₹271             SUNBEE\n",
       "10                UV Protection Round Sunglasses (54)  ₹186     kingsunglasses\n",
       "11  UV Protection, Gradient Retro Square Sunglasse...  ₹499     ROZZETTA CRAFT\n",
       "12   UV Protection Rectangular Sunglasses (Free Size)  ₹639           Fastrack\n",
       "13  UV Protection, Polarized, Mirrored Rectangular...  ₹181  SHAAH COLLECTIONS\n",
       "14  UV Protection, Polarized Wayfarer Sunglasses (...  ₹243             SUNBEE\n",
       "15  UV Protection, Riding Glasses Rectangular Sung...  ₹449     ROZZETTA CRAFT\n",
       "16  Polarized, Night Vision, Riding Glasses Sports...  ₹499     ROZZETTA CRAFT\n",
       "17  UV Protection, Gradient Rectangular Sunglasses...  ₹399     ROZZETTA CRAFT\n",
       "18  UV Protection Retro Square Sunglasses (Free Size)  ₹309         PHENOMENAL\n",
       "19              UV Protection Aviator Sunglasses (88)  ₹255       Silver Kartz\n",
       "20                UV Protection Round Sunglasses (53)  ₹189          Elligator\n",
       "21                UV Protection Round Sunglasses (54)  ₹265          Elligator\n",
       "22  UV Protection, Mirrored Retro Square Sunglasse...  ₹299         PHENOMENAL\n",
       "23  UV Protection Rectangular, Over-sized Sunglass...  ₹325             PIRASO\n",
       "24  UV Protection, Others Round, Aviator Sunglasse...  ₹174     kingsunglasses\n",
       "25  Gradient, UV Protection Wayfarer Sunglasses (F...  ₹626           Fastrack\n",
       "26  UV Protection, Polarized, Mirrored Retro Squar...  ₹235             SUNBEE\n",
       "27  UV Protection, Gradient Retro Square Sunglasse...  ₹349     ROZZETTA CRAFT\n",
       "28         UV Protection Retro Square Sunglasses (53)  ₹269         PHENOMENAL\n",
       "29                UV Protection Round Sunglasses (50)  ₹230          Elligator\n",
       "30              UV Protection Aviator Sunglasses (57)  ₹269             GANSTA\n",
       "31       UV Protection Aviator Sunglasses (Free Size)  ₹269             PIRASO\n",
       "32   UV Protection Rectangular Sunglasses (Free Size)  ₹199         Lee Topper\n",
       "33              UV Protection Aviator Sunglasses (54)  ₹225             PIRASO\n",
       "34  UV Protection, Riding Glasses Rectangular, Way...  ₹144               maxa\n",
       "35                   Mirrored Aviator Sunglasses (55)  ₹359          ROYAL SON\n",
       "36  Riding Glasses, UV Protection Oval Sunglasses ...  ₹146            Johaena\n",
       "37  Mirrored, UV Protection, Riding Glasses, Other...  ₹259          New Specs\n",
       "38  Riding Glasses, Night Vision Wrap-around Sungl...  ₹276         Lee Topper\n",
       "39              UV Protection Aviator Sunglasses (58)  ₹269             PIRASO"
      ]
     },
     "execution_count": 69,
     "metadata": {},
     "output_type": "execute_result"
    }
   ],
   "source": [
    "product = pd.DataFrame()\n",
    "product['Description Title'] = description_titles\n",
    "product['Price'] = price_titles\n",
    "product['Brand'] = brand_titles\n",
    "\n",
    "product"
   ]
  },
  {
   "cell_type": "code",
   "execution_count": null,
   "id": "191ee281",
   "metadata": {},
   "outputs": [],
   "source": []
  }
 ],
 "metadata": {
  "kernelspec": {
   "display_name": "Python 3",
   "language": "python",
   "name": "python3"
  },
  "language_info": {
   "codemirror_mode": {
    "name": "ipython",
    "version": 3
   },
   "file_extension": ".py",
   "mimetype": "text/x-python",
   "name": "python",
   "nbconvert_exporter": "python",
   "pygments_lexer": "ipython3",
   "version": "3.8.8"
  }
 },
 "nbformat": 4,
 "nbformat_minor": 5
}
