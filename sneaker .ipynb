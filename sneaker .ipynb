{
 "cells": [
  {
   "cell_type": "code",
   "execution_count": 127,
   "id": "a23f7c5f",
   "metadata": {},
   "outputs": [
    {
     "name": "stdout",
     "output_type": "stream",
     "text": [
      "Requirement already satisfied: selenium in c:\\users\\raushan kumar\\downloads\\ana\\lib\\site-packages (4.1.0)\n",
      "Requirement already satisfied: trio~=0.17 in c:\\users\\raushan kumar\\downloads\\ana\\lib\\site-packages (from selenium) (0.19.0)\n",
      "Requirement already satisfied: trio-websocket~=0.9 in c:\\users\\raushan kumar\\downloads\\ana\\lib\\site-packages (from selenium) (0.9.2)\n",
      "Requirement already satisfied: urllib3[secure]~=1.26 in c:\\users\\raushan kumar\\downloads\\ana\\lib\\site-packages (from selenium) (1.26.7)\n",
      "Requirement already satisfied: sniffio in c:\\users\\raushan kumar\\downloads\\ana\\lib\\site-packages (from trio~=0.17->selenium) (1.2.0)\n",
      "Requirement already satisfied: sortedcontainers in c:\\users\\raushan kumar\\downloads\\ana\\lib\\site-packages (from trio~=0.17->selenium) (2.4.0)\n",
      "Requirement already satisfied: attrs>=19.2.0 in c:\\users\\raushan kumar\\downloads\\ana\\lib\\site-packages (from trio~=0.17->selenium) (21.2.0)\n",
      "Requirement already satisfied: idna in c:\\users\\raushan kumar\\downloads\\ana\\lib\\site-packages (from trio~=0.17->selenium) (3.2)\n",
      "Requirement already satisfied: async-generator>=1.9 in c:\\users\\raushan kumar\\downloads\\ana\\lib\\site-packages (from trio~=0.17->selenium) (1.10)\n",
      "Requirement already satisfied: outcome in c:\\users\\raushan kumar\\downloads\\ana\\lib\\site-packages (from trio~=0.17->selenium) (1.1.0)\n",
      "Requirement already satisfied: cffi>=1.14 in c:\\users\\raushan kumar\\downloads\\ana\\lib\\site-packages (from trio~=0.17->selenium) (1.14.6)\n",
      "Requirement already satisfied: pycparser in c:\\users\\raushan kumar\\downloads\\ana\\lib\\site-packages (from cffi>=1.14->trio~=0.17->selenium) (2.20)\n",
      "Requirement already satisfied: wsproto>=0.14 in c:\\users\\raushan kumar\\downloads\\ana\\lib\\site-packages (from trio-websocket~=0.9->selenium) (1.0.0)\n",
      "Requirement already satisfied: pyOpenSSL>=0.14 in c:\\users\\raushan kumar\\downloads\\ana\\lib\\site-packages (from urllib3[secure]~=1.26->selenium) (21.0.0)\n",
      "Requirement already satisfied: cryptography>=1.3.4 in c:\\users\\raushan kumar\\downloads\\ana\\lib\\site-packages (from urllib3[secure]~=1.26->selenium) (3.4.8)\n",
      "Requirement already satisfied: certifi in c:\\users\\raushan kumar\\downloads\\ana\\lib\\site-packages (from urllib3[secure]~=1.26->selenium) (2021.10.8)\n",
      "Requirement already satisfied: six>=1.5.2 in c:\\users\\raushan kumar\\downloads\\ana\\lib\\site-packages (from pyOpenSSL>=0.14->urllib3[secure]~=1.26->selenium) (1.16.0)\n",
      "Requirement already satisfied: h11<1,>=0.9.0 in c:\\users\\raushan kumar\\downloads\\ana\\lib\\site-packages (from wsproto>=0.14->trio-websocket~=0.9->selenium) (0.13.0)\n"
     ]
    }
   ],
   "source": [
    "!pip install selenium"
   ]
  },
  {
   "cell_type": "code",
   "execution_count": 128,
   "id": "48c97e76",
   "metadata": {},
   "outputs": [],
   "source": [
    "import selenium\n",
    "from selenium import webdriver\n",
    "import pandas as pd\n",
    "import warnings\n",
    "warnings.filterwarnings(\"ignore\")"
   ]
  },
  {
   "cell_type": "code",
   "execution_count": 129,
   "id": "890de993",
   "metadata": {},
   "outputs": [],
   "source": [
    "driver = webdriver.Chrome('chromedriver.exe')"
   ]
  },
  {
   "cell_type": "code",
   "execution_count": 130,
   "id": "5b8be7d4",
   "metadata": {},
   "outputs": [],
   "source": [
    "url = 'https://www.flipkart.com/'\n",
    "driver.get(url)"
   ]
  },
  {
   "cell_type": "code",
   "execution_count": 131,
   "id": "260e0407",
   "metadata": {},
   "outputs": [
    {
     "data": {
      "text/plain": [
       "<selenium.webdriver.remote.webelement.WebElement (session=\"b01ef24fd2a43f1de01e31a0ed232ed7\", element=\"08111950-b8b1-46a2-ab50-7caffd742b40\")>"
      ]
     },
     "execution_count": 131,
     "metadata": {},
     "output_type": "execute_result"
    }
   ],
   "source": [
    "search_sneaker = driver.find_element_by_class_name(\"_3704LK\")\n",
    "search_sneaker"
   ]
  },
  {
   "cell_type": "code",
   "execution_count": 132,
   "id": "5fa675c7",
   "metadata": {},
   "outputs": [],
   "source": [
    "search_sneaker.send_keys(\"sneaker\")"
   ]
  },
  {
   "cell_type": "code",
   "execution_count": 133,
   "id": "cf0298b4",
   "metadata": {},
   "outputs": [
    {
     "data": {
      "text/plain": [
       "<selenium.webdriver.remote.webelement.WebElement (session=\"b01ef24fd2a43f1de01e31a0ed232ed7\", element=\"469ae4b9-d162-4709-a63e-6fd8502a75ad\")>"
      ]
     },
     "execution_count": 133,
     "metadata": {},
     "output_type": "execute_result"
    }
   ],
   "source": [
    "search_btn = driver.find_element_by_class_name(\"L0Z3Pu\")\n",
    "search_btn"
   ]
  },
  {
   "cell_type": "code",
   "execution_count": 134,
   "id": "7718354c",
   "metadata": {},
   "outputs": [],
   "source": [
    "search_btn.click()"
   ]
  },
  {
   "cell_type": "code",
   "execution_count": 171,
   "id": "070d85af",
   "metadata": {},
   "outputs": [
    {
     "data": {
      "text/plain": [
       "40"
      ]
     },
     "execution_count": 171,
     "metadata": {},
     "output_type": "execute_result"
    }
   ],
   "source": [
    "(brand_tags) = driver.find_elements_by_xpath('//div[@class=\"_2WkVRV\"]')\n",
    "len(brand_tags)"
   ]
  },
  {
   "cell_type": "code",
   "execution_count": 172,
   "id": "efd980b9",
   "metadata": {},
   "outputs": [],
   "source": [
    "brand_titles = []\n",
    "for i in brand_tags:\n",
    "    brand_titles.append(i.text)\n",
    "    len(brand_titles)"
   ]
  },
  {
   "cell_type": "code",
   "execution_count": 173,
   "id": "ed74b09a",
   "metadata": {},
   "outputs": [
    {
     "data": {
      "text/plain": [
       "['BRUTON',\n",
       " 'bluemaker',\n",
       " 'CLYMB',\n",
       " 'Echor',\n",
       " 'Kraasa',\n",
       " 'URBANBOX',\n",
       " 'Chevit',\n",
       " 'BIRDE',\n",
       " 'BRUTON',\n",
       " 'Kraasa',\n",
       " 'aadi',\n",
       " 'BIRDE',\n",
       " 'World Wear Footwear',\n",
       " 'Echor',\n",
       " 'RODDICK SHOES',\n",
       " 'HRX by Hrithik Roshan',\n",
       " 'BRUTON',\n",
       " 'DRESTA',\n",
       " 'Zsyto',\n",
       " 'RapidBox',\n",
       " 'Chevit',\n",
       " 'Robbie jones',\n",
       " 'SPARX',\n",
       " 'Edoeviv',\n",
       " 'ASTEROID',\n",
       " 'aadi',\n",
       " 'Robbie jones',\n",
       " 'HRX by Hrithik Roshan',\n",
       " 'Trendmode',\n",
       " 'Stefano Rads',\n",
       " 'T-ROCK',\n",
       " 'BRUTON',\n",
       " 'Echor',\n",
       " 'Vellinto',\n",
       " 'D-SNEAKERZ',\n",
       " 'RapidBox',\n",
       " 'Numenzo',\n",
       " 'RapidBox',\n",
       " 'LE GREEM',\n",
       " 'HOTSTYLE']"
      ]
     },
     "execution_count": 173,
     "metadata": {},
     "output_type": "execute_result"
    }
   ],
   "source": [
    "brand_titles"
   ]
  },
  {
   "cell_type": "code",
   "execution_count": 174,
   "id": "9183cfde",
   "metadata": {},
   "outputs": [
    {
     "data": {
      "text/plain": [
       "40"
      ]
     },
     "execution_count": 174,
     "metadata": {},
     "output_type": "execute_result"
    }
   ],
   "source": [
    "price_tags = driver.find_elements_by_xpath('//div[@class=\"_30jeq3\"]')\n",
    "len(price_tags)"
   ]
  },
  {
   "cell_type": "code",
   "execution_count": 175,
   "id": "657263f4",
   "metadata": {},
   "outputs": [],
   "source": [
    "price_titles = []\n",
    "for i in price_tags:\n",
    "    price_titles.append(i.text)\n",
    "    len(price_titles)"
   ]
  },
  {
   "cell_type": "code",
   "execution_count": 176,
   "id": "462618a9",
   "metadata": {},
   "outputs": [
    {
     "data": {
      "text/plain": [
       "['₹139',\n",
       " '₹399',\n",
       " '₹566',\n",
       " '₹449',\n",
       " '₹394',\n",
       " '₹116',\n",
       " '₹499',\n",
       " '₹476',\n",
       " '₹209',\n",
       " '₹394',\n",
       " '₹449',\n",
       " '₹476',\n",
       " '₹209',\n",
       " '₹449',\n",
       " '₹374',\n",
       " '₹2,549',\n",
       " '₹148',\n",
       " '₹398',\n",
       " '₹278',\n",
       " '₹590',\n",
       " '₹204',\n",
       " '₹449',\n",
       " '₹799',\n",
       " '₹449',\n",
       " '₹424',\n",
       " '₹349',\n",
       " '₹424',\n",
       " '₹2,744',\n",
       " '₹199',\n",
       " '₹190',\n",
       " '₹349',\n",
       " '₹449',\n",
       " '₹449',\n",
       " '₹549',\n",
       " '₹334',\n",
       " '₹570',\n",
       " '₹348',\n",
       " '₹630',\n",
       " '₹399',\n",
       " '₹249']"
      ]
     },
     "execution_count": 176,
     "metadata": {},
     "output_type": "execute_result"
    }
   ],
   "source": [
    "price_titles"
   ]
  },
  {
   "cell_type": "code",
   "execution_count": 177,
   "id": "73d69cee",
   "metadata": {},
   "outputs": [
    {
     "data": {
      "text/plain": [
       "30"
      ]
     },
     "execution_count": 177,
     "metadata": {},
     "output_type": "execute_result"
    }
   ],
   "source": [
    "description_tags = driver.find_elements_by_xpath('//a[@class=\"IRpwTa\"]')\n",
    "len(description_tags)"
   ]
  },
  {
   "cell_type": "code",
   "execution_count": 178,
   "id": "279b67e5",
   "metadata": {},
   "outputs": [],
   "source": [
    "description_titles = []\n",
    "for i in description_tags:\n",
    "    description_titles.append(i.text)\n",
    "    len(description_titles)"
   ]
  },
  {
   "cell_type": "code",
   "execution_count": 179,
   "id": "edfc0e7d",
   "metadata": {},
   "outputs": [
    {
     "data": {
      "text/plain": [
       "['Lightweight Pack Of 1 Trendy Sneakers Sneakers Sneakers...',\n",
       " 'casual for men Sneakers For Men',\n",
       " 'Sneakers For Men',\n",
       " 'Sneakers For Men',\n",
       " 'Series 7 Sneakers For Men',\n",
       " 'Perfect & Affordable Combo Pack of 02 Pairs Sneakers Ou...',\n",
       " 'Stylish Comfortable Lightweight, Breathable Sports Walk...',\n",
       " 'Lattest Sneakers Shoe Sneakers For Men',\n",
       " 'Shark-41 Sneakers For Men',\n",
       " 'Sneakers For Men',\n",
       " 'Stylish Comfortable Lightweight, Breathable Casual Shoe...',\n",
       " 'Men 5014 Latest Collection Stylish Casual Sports Loafer...',\n",
       " \"Men's Sneakers Fashion Lightweight Running Shoes Tennis...\",\n",
       " 'Fashion Outdoor Canvas Casual Light Weight Lace-up Even...',\n",
       " 'Men White Printed Sneakers Sneakers For Men',\n",
       " \"Original Luxury Branded Fashionable Men's Casual Walkin...\",\n",
       " '494 Perfect Sports Shoes for Running Training Hikking &...',\n",
       " 'Casual Sneakers White Shoes For Men Sneakers For Men',\n",
       " \"Luxury Branded Fashionable Men's Casual Walking Partywe...\",\n",
       " \"Original Luxury Branded Fashionable Men's Casual Walkin...\",\n",
       " 'Sneakers For Men',\n",
       " 'Sneakers For Men',\n",
       " 'Sneakers For Men',\n",
       " 'Combo Pack Of 2 Latest Stylish Casual Shoes for Men Lac...',\n",
       " \"Men's Sneakers Fashion Lightweight Running Shoes Tennis...\",\n",
       " 'Casual Sneakrs For Men Sneakers For Men',\n",
       " \"Casual , Partywear Sneakers Shoes For Men's And Boys Wh...\",\n",
       " 'Sneakers For Men',\n",
       " 'Comfortable & Ultra Light Weight Sneaker Sneakers For M...',\n",
       " 'Shoes Sneakers Casuals Boots Slip On Sneakers Outdoors ...']"
      ]
     },
     "execution_count": 179,
     "metadata": {},
     "output_type": "execute_result"
    }
   ],
   "source": [
    "description_titles"
   ]
  },
  {
   "cell_type": "code",
   "execution_count": 180,
   "id": "e04a05fc",
   "metadata": {},
   "outputs": [
    {
     "data": {
      "text/plain": [
       "40"
      ]
     },
     "execution_count": 180,
     "metadata": {},
     "output_type": "execute_result"
    }
   ],
   "source": [
    "offer_tags = driver.find_elements_by_xpath('//div[@class=\"_3I9_wc\"]')\n",
    "len(offer_tags)"
   ]
  },
  {
   "cell_type": "code",
   "execution_count": 181,
   "id": "ecf1ab0f",
   "metadata": {},
   "outputs": [],
   "source": [
    "offer_titles = []\n",
    "for i in offer_tags:\n",
    "    offer_titles.append(i.text)\n",
    "    len(offer_titles)"
   ]
  },
  {
   "cell_type": "code",
   "execution_count": 186,
   "id": "95049427",
   "metadata": {},
   "outputs": [
    {
     "data": {
      "text/plain": [
       "<selenium.webdriver.remote.webelement.WebElement (session=\"b01ef24fd2a43f1de01e31a0ed232ed7\", element=\"70e93523-81d7-4fb6-a591-167ba287d6b0\")>"
      ]
     },
     "execution_count": 186,
     "metadata": {},
     "output_type": "execute_result"
    }
   ],
   "source": [
    "search_btn = driver.find_element_by_xpath(\"/html/body/div[1]/div/div[3]/div[1]/div[2]/div[12]/div/div/nav/a[4]\")\n",
    "search_btn"
   ]
  },
  {
   "cell_type": "code",
   "execution_count": 196,
   "id": "4bc14c54",
   "metadata": {},
   "outputs": [
    {
     "data": {
      "text/plain": [
       "40"
      ]
     },
     "execution_count": 196,
     "metadata": {},
     "output_type": "execute_result"
    }
   ],
   "source": [
    "brand_tags = driver.find_elements_by_xpath('//div[@class=\"_2WkVRV\"]')\n",
    "len(brand_tags)"
   ]
  },
  {
   "cell_type": "code",
   "execution_count": 197,
   "id": "67afd337",
   "metadata": {},
   "outputs": [],
   "source": [
    "brand_titles = []\n",
    "for i in brand_tags[:20]:\n",
    "    brand_titles.append(i.text)\n",
    "    len(brand_titles)"
   ]
  },
  {
   "cell_type": "code",
   "execution_count": 198,
   "id": "747fed86",
   "metadata": {},
   "outputs": [
    {
     "data": {
      "text/plain": [
       "['Ktiz',\n",
       " 'ESSENCE',\n",
       " 'PUMA',\n",
       " 'HRX by Hrithik Roshan',\n",
       " 'RODDICK SHOES',\n",
       " 'ASIAN',\n",
       " 'AMICO',\n",
       " 'Religre',\n",
       " 'KNIGHT WALKERS',\n",
       " 'Chevit',\n",
       " 'Chevit',\n",
       " 'HRX by Hrithik Roshan',\n",
       " 'EZDEZARIO',\n",
       " 'Zorth',\n",
       " 'Zorth',\n",
       " 'SPORTER',\n",
       " 'RODDICK SHOES',\n",
       " 'RANZAG',\n",
       " 'Magnolia',\n",
       " 'HRX by Hrithik Roshan']"
      ]
     },
     "execution_count": 198,
     "metadata": {},
     "output_type": "execute_result"
    }
   ],
   "source": [
    "brand_titles"
   ]
  },
  {
   "cell_type": "code",
   "execution_count": 199,
   "id": "311f35df",
   "metadata": {},
   "outputs": [
    {
     "data": {
      "text/plain": [
       "40"
      ]
     },
     "execution_count": 199,
     "metadata": {},
     "output_type": "execute_result"
    }
   ],
   "source": [
    "price_tags = driver.find_elements_by_xpath('//div[@class=\"_30jeq3\"]')\n",
    "len(price_tags)"
   ]
  },
  {
   "cell_type": "code",
   "execution_count": 200,
   "id": "eab4270f",
   "metadata": {},
   "outputs": [],
   "source": [
    "price_titles = []\n",
    "for i in price_tags[:20]:\n",
    "    price_titles.append(i.text)\n",
    "    len(price_titles)"
   ]
  },
  {
   "cell_type": "code",
   "execution_count": 201,
   "id": "935c42a8",
   "metadata": {},
   "outputs": [
    {
     "data": {
      "text/plain": [
       "['₹398',\n",
       " '₹349',\n",
       " '₹3,449',\n",
       " '₹2,649',\n",
       " '₹374',\n",
       " '₹549',\n",
       " '₹499',\n",
       " '₹339',\n",
       " '₹549',\n",
       " '₹209',\n",
       " '₹449',\n",
       " '₹3,249',\n",
       " '₹249',\n",
       " '₹385',\n",
       " '₹363',\n",
       " '₹580',\n",
       " '₹374',\n",
       " '₹335',\n",
       " '₹422',\n",
       " '₹3,049']"
      ]
     },
     "execution_count": 201,
     "metadata": {},
     "output_type": "execute_result"
    }
   ],
   "source": [
    "price_titles"
   ]
  },
  {
   "cell_type": "code",
   "execution_count": 202,
   "id": "9ce703a7",
   "metadata": {},
   "outputs": [
    {
     "data": {
      "text/plain": [
       "35"
      ]
     },
     "execution_count": 202,
     "metadata": {},
     "output_type": "execute_result"
    }
   ],
   "source": [
    "description_tags = driver.find_elements_by_xpath('//a[@class=\"IRpwTa\"]')\n",
    "len(description_tags)"
   ]
  },
  {
   "cell_type": "code",
   "execution_count": 203,
   "id": "27e82ff9",
   "metadata": {},
   "outputs": [],
   "source": [
    "description_titles = []\n",
    "for i in description_tags[:20]:\n",
    "    description_titles.append(i.text)\n",
    "    len(description_titles)"
   ]
  },
  {
   "cell_type": "code",
   "execution_count": 204,
   "id": "c55a27d1",
   "metadata": {},
   "outputs": [
    {
     "data": {
      "text/plain": [
       "['Sneakers For Men',\n",
       " 'Trendy Sneakers For Men',\n",
       " 'Smash v2 L White- Black Sneakers For Men',\n",
       " 'Men Grey Woven Design Sneakers Sneakers For Men',\n",
       " 'Fashion Outdoor Canvas Casual Light Weight Lace-up Even...',\n",
       " 'Skypy-31 Walking Shoes,Training Shoes,Sneakers,Loafers,...',\n",
       " 'Sneakers For Men',\n",
       " 'Sneakers For Men',\n",
       " '516 Trendy Star Perfect Sneakers For Men',\n",
       " \"Men's Combo Pack of 02 Shoes for Men Casual Sneakers Ou...\",\n",
       " 'Sneakers For Men',\n",
       " 'Shoes in Black Color Party wear/Outdoor/Casual Shoes Fo...',\n",
       " 'New Fashion Outdoor Trendy Lightweight Casual,Canvas St...',\n",
       " 'Sneakers For Men',\n",
       " 'shoes For Mens Combo Sneakers For Men',\n",
       " 'Fashion Outdoor Canvas Casual Light Weight Lace-up Even...',\n",
       " 'Sneakers For Men',\n",
       " 'Men White Solid Sneakers Sneakers For Men',\n",
       " 'Modern & Trendy Collection Combo Pack of 02 Shoes for M...',\n",
       " \"Echor Men's Sneakers Fashion Lightweight Running Shoes ...\"]"
      ]
     },
     "execution_count": 204,
     "metadata": {},
     "output_type": "execute_result"
    }
   ],
   "source": [
    "description_titles"
   ]
  },
  {
   "cell_type": "code",
   "execution_count": 205,
   "id": "7851c17a",
   "metadata": {},
   "outputs": [
    {
     "data": {
      "text/plain": [
       "40"
      ]
     },
     "execution_count": 205,
     "metadata": {},
     "output_type": "execute_result"
    }
   ],
   "source": [
    "offer_tags = driver.find_elements_by_xpath('//div[@class=\"_3I9_wc\"]')\n",
    "len(offer_tags)"
   ]
  },
  {
   "cell_type": "code",
   "execution_count": 206,
   "id": "3d370938",
   "metadata": {},
   "outputs": [],
   "source": [
    "offer_titles = []\n",
    "for i in offer_tags[:20]:\n",
    "    offer_titles.append(i.text)\n",
    "    len(offer_titles)"
   ]
  },
  {
   "cell_type": "code",
   "execution_count": 207,
   "id": "77bef5a4",
   "metadata": {},
   "outputs": [
    {
     "data": {
      "text/plain": [
       "['₹999',\n",
       " '₹999',\n",
       " '₹3,499',\n",
       " '₹4,199',\n",
       " '₹999',\n",
       " '₹799',\n",
       " '₹999',\n",
       " '₹999',\n",
       " '₹1,499',\n",
       " '₹799',\n",
       " '₹998',\n",
       " '₹3,299',\n",
       " '₹999',\n",
       " '₹999',\n",
       " '₹999',\n",
       " '₹998',\n",
       " '₹999',\n",
       " '₹999',\n",
       " '₹999',\n",
       " '₹4,199']"
      ]
     },
     "execution_count": 207,
     "metadata": {},
     "output_type": "execute_result"
    }
   ],
   "source": [
    "offer_titles"
   ]
  },
  {
   "cell_type": "code",
   "execution_count": 208,
   "id": "2db88b66",
   "metadata": {},
   "outputs": [
    {
     "data": {
      "text/html": [
       "<div>\n",
       "<style scoped>\n",
       "    .dataframe tbody tr th:only-of-type {\n",
       "        vertical-align: middle;\n",
       "    }\n",
       "\n",
       "    .dataframe tbody tr th {\n",
       "        vertical-align: top;\n",
       "    }\n",
       "\n",
       "    .dataframe thead th {\n",
       "        text-align: right;\n",
       "    }\n",
       "</style>\n",
       "<table border=\"1\" class=\"dataframe\">\n",
       "  <thead>\n",
       "    <tr style=\"text-align: right;\">\n",
       "      <th></th>\n",
       "      <th>Brand Title</th>\n",
       "      <th>Price</th>\n",
       "      <th>Descriptio</th>\n",
       "      <th>Offer</th>\n",
       "    </tr>\n",
       "  </thead>\n",
       "  <tbody>\n",
       "    <tr>\n",
       "      <th>0</th>\n",
       "      <td>Ktiz</td>\n",
       "      <td>₹398</td>\n",
       "      <td>Sneakers For Men</td>\n",
       "      <td>₹999</td>\n",
       "    </tr>\n",
       "    <tr>\n",
       "      <th>1</th>\n",
       "      <td>ESSENCE</td>\n",
       "      <td>₹349</td>\n",
       "      <td>Trendy Sneakers For Men</td>\n",
       "      <td>₹999</td>\n",
       "    </tr>\n",
       "    <tr>\n",
       "      <th>2</th>\n",
       "      <td>PUMA</td>\n",
       "      <td>₹3,449</td>\n",
       "      <td>Smash v2 L White- Black Sneakers For Men</td>\n",
       "      <td>₹3,499</td>\n",
       "    </tr>\n",
       "    <tr>\n",
       "      <th>3</th>\n",
       "      <td>HRX by Hrithik Roshan</td>\n",
       "      <td>₹2,649</td>\n",
       "      <td>Men Grey Woven Design Sneakers Sneakers For Men</td>\n",
       "      <td>₹4,199</td>\n",
       "    </tr>\n",
       "    <tr>\n",
       "      <th>4</th>\n",
       "      <td>RODDICK SHOES</td>\n",
       "      <td>₹374</td>\n",
       "      <td>Fashion Outdoor Canvas Casual Light Weight Lac...</td>\n",
       "      <td>₹999</td>\n",
       "    </tr>\n",
       "    <tr>\n",
       "      <th>5</th>\n",
       "      <td>ASIAN</td>\n",
       "      <td>₹549</td>\n",
       "      <td>Skypy-31 Walking Shoes,Training Shoes,Sneakers...</td>\n",
       "      <td>₹799</td>\n",
       "    </tr>\n",
       "    <tr>\n",
       "      <th>6</th>\n",
       "      <td>AMICO</td>\n",
       "      <td>₹499</td>\n",
       "      <td>Sneakers For Men</td>\n",
       "      <td>₹999</td>\n",
       "    </tr>\n",
       "    <tr>\n",
       "      <th>7</th>\n",
       "      <td>Religre</td>\n",
       "      <td>₹339</td>\n",
       "      <td>Sneakers For Men</td>\n",
       "      <td>₹999</td>\n",
       "    </tr>\n",
       "    <tr>\n",
       "      <th>8</th>\n",
       "      <td>KNIGHT WALKERS</td>\n",
       "      <td>₹549</td>\n",
       "      <td>516 Trendy Star Perfect Sneakers For Men</td>\n",
       "      <td>₹1,499</td>\n",
       "    </tr>\n",
       "    <tr>\n",
       "      <th>9</th>\n",
       "      <td>Chevit</td>\n",
       "      <td>₹209</td>\n",
       "      <td>Men's Combo Pack of 02 Shoes for Men Casual Sn...</td>\n",
       "      <td>₹799</td>\n",
       "    </tr>\n",
       "    <tr>\n",
       "      <th>10</th>\n",
       "      <td>Chevit</td>\n",
       "      <td>₹449</td>\n",
       "      <td>Sneakers For Men</td>\n",
       "      <td>₹998</td>\n",
       "    </tr>\n",
       "    <tr>\n",
       "      <th>11</th>\n",
       "      <td>HRX by Hrithik Roshan</td>\n",
       "      <td>₹3,249</td>\n",
       "      <td>Shoes in Black Color Party wear/Outdoor/Casual...</td>\n",
       "      <td>₹3,299</td>\n",
       "    </tr>\n",
       "    <tr>\n",
       "      <th>12</th>\n",
       "      <td>EZDEZARIO</td>\n",
       "      <td>₹249</td>\n",
       "      <td>New Fashion Outdoor Trendy Lightweight Casual,...</td>\n",
       "      <td>₹999</td>\n",
       "    </tr>\n",
       "    <tr>\n",
       "      <th>13</th>\n",
       "      <td>Zorth</td>\n",
       "      <td>₹385</td>\n",
       "      <td>Sneakers For Men</td>\n",
       "      <td>₹999</td>\n",
       "    </tr>\n",
       "    <tr>\n",
       "      <th>14</th>\n",
       "      <td>Zorth</td>\n",
       "      <td>₹363</td>\n",
       "      <td>shoes For Mens Combo Sneakers For Men</td>\n",
       "      <td>₹999</td>\n",
       "    </tr>\n",
       "    <tr>\n",
       "      <th>15</th>\n",
       "      <td>SPORTER</td>\n",
       "      <td>₹580</td>\n",
       "      <td>Fashion Outdoor Canvas Casual Light Weight Lac...</td>\n",
       "      <td>₹998</td>\n",
       "    </tr>\n",
       "    <tr>\n",
       "      <th>16</th>\n",
       "      <td>RODDICK SHOES</td>\n",
       "      <td>₹374</td>\n",
       "      <td>Sneakers For Men</td>\n",
       "      <td>₹999</td>\n",
       "    </tr>\n",
       "    <tr>\n",
       "      <th>17</th>\n",
       "      <td>RANZAG</td>\n",
       "      <td>₹335</td>\n",
       "      <td>Men White Solid Sneakers Sneakers For Men</td>\n",
       "      <td>₹999</td>\n",
       "    </tr>\n",
       "    <tr>\n",
       "      <th>18</th>\n",
       "      <td>Magnolia</td>\n",
       "      <td>₹422</td>\n",
       "      <td>Modern &amp; Trendy Collection Combo Pack of 02 Sh...</td>\n",
       "      <td>₹999</td>\n",
       "    </tr>\n",
       "    <tr>\n",
       "      <th>19</th>\n",
       "      <td>HRX by Hrithik Roshan</td>\n",
       "      <td>₹3,049</td>\n",
       "      <td>Echor Men's Sneakers Fashion Lightweight Runni...</td>\n",
       "      <td>₹4,199</td>\n",
       "    </tr>\n",
       "  </tbody>\n",
       "</table>\n",
       "</div>"
      ],
      "text/plain": [
       "              Brand Title  Price   \\\n",
       "0                    Ktiz    ₹398   \n",
       "1                 ESSENCE    ₹349   \n",
       "2                    PUMA  ₹3,449   \n",
       "3   HRX by Hrithik Roshan  ₹2,649   \n",
       "4           RODDICK SHOES    ₹374   \n",
       "5                   ASIAN    ₹549   \n",
       "6                   AMICO    ₹499   \n",
       "7                 Religre    ₹339   \n",
       "8          KNIGHT WALKERS    ₹549   \n",
       "9                  Chevit    ₹209   \n",
       "10                 Chevit    ₹449   \n",
       "11  HRX by Hrithik Roshan  ₹3,249   \n",
       "12              EZDEZARIO    ₹249   \n",
       "13                  Zorth    ₹385   \n",
       "14                  Zorth    ₹363   \n",
       "15                SPORTER    ₹580   \n",
       "16          RODDICK SHOES    ₹374   \n",
       "17                 RANZAG    ₹335   \n",
       "18               Magnolia    ₹422   \n",
       "19  HRX by Hrithik Roshan  ₹3,049   \n",
       "\n",
       "                                           Descriptio   Offer  \n",
       "0                                    Sneakers For Men    ₹999  \n",
       "1                             Trendy Sneakers For Men    ₹999  \n",
       "2            Smash v2 L White- Black Sneakers For Men  ₹3,499  \n",
       "3     Men Grey Woven Design Sneakers Sneakers For Men  ₹4,199  \n",
       "4   Fashion Outdoor Canvas Casual Light Weight Lac...    ₹999  \n",
       "5   Skypy-31 Walking Shoes,Training Shoes,Sneakers...    ₹799  \n",
       "6                                    Sneakers For Men    ₹999  \n",
       "7                                    Sneakers For Men    ₹999  \n",
       "8            516 Trendy Star Perfect Sneakers For Men  ₹1,499  \n",
       "9   Men's Combo Pack of 02 Shoes for Men Casual Sn...    ₹799  \n",
       "10                                   Sneakers For Men    ₹998  \n",
       "11  Shoes in Black Color Party wear/Outdoor/Casual...  ₹3,299  \n",
       "12  New Fashion Outdoor Trendy Lightweight Casual,...    ₹999  \n",
       "13                                   Sneakers For Men    ₹999  \n",
       "14              shoes For Mens Combo Sneakers For Men    ₹999  \n",
       "15  Fashion Outdoor Canvas Casual Light Weight Lac...    ₹998  \n",
       "16                                   Sneakers For Men    ₹999  \n",
       "17          Men White Solid Sneakers Sneakers For Men    ₹999  \n",
       "18  Modern & Trendy Collection Combo Pack of 02 Sh...    ₹999  \n",
       "19  Echor Men's Sneakers Fashion Lightweight Runni...  ₹4,199  "
      ]
     },
     "execution_count": 208,
     "metadata": {},
     "output_type": "execute_result"
    }
   ],
   "source": [
    "product = pd.DataFrame()\n",
    "product['Brand Title'] = brand_titles\n",
    "product['Price '] = price_titles\n",
    "product['Descriptio'] = description_titles\n",
    "product['Offer'] = offer_titles\n",
    "product"
   ]
  }
 ],
 "metadata": {
  "kernelspec": {
   "display_name": "Python 3",
   "language": "python",
   "name": "python3"
  },
  "language_info": {
   "codemirror_mode": {
    "name": "ipython",
    "version": 3
   },
   "file_extension": ".py",
   "mimetype": "text/x-python",
   "name": "python",
   "nbconvert_exporter": "python",
   "pygments_lexer": "ipython3",
   "version": "3.8.8"
  }
 },
 "nbformat": 4,
 "nbformat_minor": 5
}
